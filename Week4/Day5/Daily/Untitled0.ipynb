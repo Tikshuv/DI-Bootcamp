{
  "nbformat": 4,
  "nbformat_minor": 0,
  "metadata": {
    "colab": {
      "provenance": []
    },
    "kernelspec": {
      "name": "python3",
      "display_name": "Python 3"
    },
    "language_info": {
      "name": "python"
    }
  },
  "cells": [
    {
      "cell_type": "code",
      "execution_count": 13,
      "metadata": {
        "colab": {
          "base_uri": "https://localhost:8080/"
        },
        "id": "vNhxbpuHRFxO",
        "outputId": "b2c8efc2-98ab-4cbb-998f-65e9d8aaaf39"
      },
      "outputs": [
        {
          "output_type": "stream",
          "name": "stdout",
          "text": [
            "<class 'pandas.core.frame.DataFrame'>\n",
            "RangeIndex: 607 entries, 0 to 606\n",
            "Data columns (total 12 columns):\n",
            " #   Column              Non-Null Count  Dtype \n",
            "---  ------              --------------  ----- \n",
            " 0   Unnamed: 0          607 non-null    int64 \n",
            " 1   work_year           607 non-null    int64 \n",
            " 2   experience_level    607 non-null    object\n",
            " 3   employment_type     607 non-null    object\n",
            " 4   job_title           607 non-null    object\n",
            " 5   salary              607 non-null    int64 \n",
            " 6   salary_currency     607 non-null    object\n",
            " 7   salary_in_usd       607 non-null    int64 \n",
            " 8   employee_residence  607 non-null    object\n",
            " 9   remote_ratio        607 non-null    int64 \n",
            " 10  company_location    607 non-null    object\n",
            " 11  company_size        607 non-null    object\n",
            "dtypes: int64(5), object(7)\n",
            "memory usage: 57.0+ KB\n",
            "0\n"
          ]
        }
      ],
      "source": [
        "import pandas as pd\n",
        "df = pd.read_csv('/content/ds_salaries.csv')\n",
        "df.info()\n",
        "df.head()\n",
        "print(df.duplicated().sum())"
      ]
    },
    {
      "cell_type": "markdown",
      "source": [
        "index(unnamed), experience_level, employment_type, job_title, salary_currency, employee_residence, company_location and company_size - qualitative\n",
        "others - quantitative"
      ],
      "metadata": {
        "id": "a3g72j1zkhij"
      }
    },
    {
      "cell_type": "code",
      "source": [
        "df.rename(columns={'Unnamed: 0': 'index'}, inplace=True)\n",
        "Q1 = df['salary'].quantile(0.25)\n",
        "Q3 = df['salary'].quantile(0.75)\n",
        "IQR = Q3 - Q1\n",
        "lower_bound = Q1 - 1.5 * IQR\n",
        "upper_bound = Q3 + 1.5 * IQR\n",
        "df = df[(df['salary'] >= lower_bound) & (df['salary'] <= upper_bound)]\n",
        "print(df.describe())\n",
        "print(df.info())\n"
      ],
      "metadata": {
        "colab": {
          "base_uri": "https://localhost:8080/"
        },
        "id": "6IJueJj6SAXG",
        "outputId": "a1abea2b-ab45-4578-bc80-296c8c817576"
      },
      "execution_count": 11,
      "outputs": [
        {
          "output_type": "stream",
          "name": "stdout",
          "text": [
            "            index    work_year         salary  salary_in_usd  remote_ratio\n",
            "count  561.000000   561.000000     561.000000     561.000000    561.000000\n",
            "mean   312.680927  2021.447415  112440.358289  111965.424242     71.568627\n",
            "std    174.034643     0.679678   58419.459966   56881.438715     40.730377\n",
            "min      0.000000  2020.000000    4000.000000    2859.000000      0.000000\n",
            "25%    163.000000  2021.000000   65000.000000   69336.000000     50.000000\n",
            "50%    319.000000  2022.000000  108000.000000  105000.000000    100.000000\n",
            "75%    462.000000  2022.000000  150075.000000  150000.000000    100.000000\n",
            "max    606.000000  2022.000000  276000.000000  276000.000000    100.000000\n",
            "<class 'pandas.core.frame.DataFrame'>\n",
            "Index: 561 entries, 0 to 606\n",
            "Data columns (total 12 columns):\n",
            " #   Column              Non-Null Count  Dtype \n",
            "---  ------              --------------  ----- \n",
            " 0   index               561 non-null    int64 \n",
            " 1   work_year           561 non-null    int64 \n",
            " 2   experience_level    561 non-null    object\n",
            " 3   employment_type     561 non-null    object\n",
            " 4   job_title           561 non-null    object\n",
            " 5   salary              561 non-null    int64 \n",
            " 6   salary_currency     561 non-null    object\n",
            " 7   salary_in_usd       561 non-null    int64 \n",
            " 8   employee_residence  561 non-null    object\n",
            " 9   remote_ratio        561 non-null    int64 \n",
            " 10  company_location    561 non-null    object\n",
            " 11  company_size        561 non-null    object\n",
            "dtypes: int64(5), object(7)\n",
            "memory usage: 57.0+ KB\n",
            "None\n"
          ]
        }
      ]
    },
    {
      "cell_type": "code",
      "source": [
        "mean_salary = df.groupby('experience_level')['salary'].mean()\n",
        "median_salary = df.groupby('experience_level')['salary'].median()\n",
        "\n",
        "mean_salary, median_salary"
      ],
      "metadata": {
        "colab": {
          "base_uri": "https://localhost:8080/"
        },
        "id": "R5kdpZeHle1X",
        "outputId": "2a1c3561-b0f0-424e-a0e4-b0bca910deb3"
      },
      "execution_count": 15,
      "outputs": [
        {
          "output_type": "execute_result",
          "data": {
            "text/plain": [
              "(experience_level\n",
              " EN    264622.454545\n",
              " EX    427072.115385\n",
              " MI    480617.690141\n",
              " SE    213949.353571\n",
              " Name: salary, dtype: float64,\n",
              " experience_level\n",
              " EN     68500.0\n",
              " EX    187500.0\n",
              " MI     85000.0\n",
              " SE    140000.0\n",
              " Name: salary, dtype: float64)"
            ]
          },
          "metadata": {},
          "execution_count": 15
        }
      ]
    },
    {
      "cell_type": "code",
      "source": [
        "from matplotlib import pyplot as plt\n",
        "plt.figure(figsize=(10, 6))\n",
        "plt.bar(mean_salary.index, mean_salary.values)\n",
        "plt.xlabel('Experience Level')\n",
        "plt.ylabel('Mean Salary')\n",
        "plt.title('Mean Salary by Experience Level')\n",
        "plt.show()"
      ],
      "metadata": {
        "colab": {
          "base_uri": "https://localhost:8080/",
          "height": 564
        },
        "id": "oon-ex58mPur",
        "outputId": "29946939-4a7d-4931-fdba-67b3e66ca6be"
      },
      "execution_count": 20,
      "outputs": [
        {
          "output_type": "display_data",
          "data": {
            "text/plain": [
              "<Figure size 1000x600 with 1 Axes>"
            ],
            "image/png": "[encoded data removed]"
          },
          "metadata": {}
        }
      ]
    }
  ]
}