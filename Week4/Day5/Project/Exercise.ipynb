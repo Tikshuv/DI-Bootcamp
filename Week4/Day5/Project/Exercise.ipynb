{
  "cells": [
    {
      "cell_type": "code",
      "source": [
        "!unzip 'Mental Health in Tech Survey.zip'\n"
      ],
      "metadata": {
        "colab": {
          "base_uri": "https://localhost:8080/"
        },
        "id": "O09gSI18eMtB",
        "outputId": "1a0095ee-3667-4c3a-a439-2f024383b4f8"
      },
      "execution_count": 2,
      "outputs": [
        {
          "output_type": "stream",
          "name": "stdout",
          "text": [
            "Archive:  Mental Health in Tech Survey.zip\n",
            "  inflating: Mental Health in Tech Survey/survey.csv  \n"
          ]
        }
      ]
    },
    {
      "cell_type": "code",
      "source": [
        "import pandas as pd\n",
        "\n",
        "df = pd.read_csv('/content/survey.csv')\n",
        "df.head = df.head()\n",
        "df.info = df.info()\n",
        "df.describe = df.describe()\n",
        "df.info, df.head, df.describe"
      ],
      "metadata": {
        "colab": {
          "base_uri": "https://localhost:8080/"
        },
        "id": "xLi0qiyOewRg",
        "outputId": "9b76633a-e8e7-4f93-8234-b83b2c7339e0"
      },
      "execution_count": 1,
      "outputs": [
        {
          "output_type": "stream",
          "name": "stdout",
          "text": [
            "<class 'pandas.core.frame.DataFrame'>\n",
            "RangeIndex: 1259 entries, 0 to 1258\n",
            "Data columns (total 27 columns):\n",
            " #   Column                     Non-Null Count  Dtype \n",
            "---  ------                     --------------  ----- \n",
            " 0   Timestamp                  1259 non-null   object\n",
            " 1   Age                        1259 non-null   int64 \n",
            " 2   Gender                     1259 non-null   object\n",
            " 3   Country                    1259 non-null   object\n",
            " 4   state                      744 non-null    object\n",
            " 5   self_employed              1241 non-null   object\n",
            " 6   family_history             1259 non-null   object\n",
            " 7   treatment                  1259 non-null   object\n",
            " 8   work_interfere             995 non-null    object\n",
            " 9   no_employees               1259 non-null   object\n",
            " 10  remote_work                1259 non-null   object\n",
            " 11  tech_company               1259 non-null   object\n",
            " 12  benefits                   1259 non-null   object\n",
            " 13  care_options               1259 non-null   object\n",
            " 14  wellness_program           1259 non-null   object\n",
            " 15  seek_help                  1259 non-null   object\n",
            " 16  anonymity                  1259 non-null   object\n",
            " 17  leave                      1259 non-null   object\n",
            " 18  mental_health_consequence  1259 non-null   object\n",
            " 19  phys_health_consequence    1259 non-null   object\n",
            " 20  coworkers                  1259 non-null   object\n",
            " 21  supervisor                 1259 non-null   object\n",
            " 22  mental_health_interview    1259 non-null   object\n",
            " 23  phys_health_interview      1259 non-null   object\n",
            " 24  mental_vs_physical         1259 non-null   object\n",
            " 25  obs_consequence            1259 non-null   object\n",
            " 26  comments                   164 non-null    object\n",
            "dtypes: int64(1), object(26)\n",
            "memory usage: 265.7+ KB\n"
          ]
        },
        {
          "output_type": "execute_result",
          "data": {
            "text/plain": [
              "(None,\n",
              "              Timestamp  Age  Gender         Country state self_employed  \\\n",
              " 0  2014-08-27 11:29:31   37  Female   United States    IL           NaN   \n",
              " 1  2014-08-27 11:29:37   44       M   United States    IN           NaN   \n",
              " 2  2014-08-27 11:29:44   32    Male          Canada   NaN           NaN   \n",
              " 3  2014-08-27 11:29:46   31    Male  United Kingdom   NaN           NaN   \n",
              " 4  2014-08-27 11:30:22   31    Male   United States    TX           NaN   \n",
              " \n",
              "   family_history treatment work_interfere    no_employees  ...  \\\n",
              " 0             No       Yes          Often            6-25  ...   \n",
              " 1             No        No         Rarely  More than 1000  ...   \n",
              " 2             No        No         Rarely            6-25  ...   \n",
              " 3            Yes       Yes          Often          26-100  ...   \n",
              " 4             No        No          Never         100-500  ...   \n",
              " \n",
              "                 leave mental_health_consequence phys_health_consequence  \\\n",
              " 0       Somewhat easy                        No                      No   \n",
              " 1          Don't know                     Maybe                      No   \n",
              " 2  Somewhat difficult                        No                      No   \n",
              " 3  Somewhat difficult                       Yes                     Yes   \n",
              " 4          Don't know                        No                      No   \n",
              " \n",
              "       coworkers supervisor mental_health_interview phys_health_interview  \\\n",
              " 0  Some of them        Yes                      No                 Maybe   \n",
              " 1            No         No                      No                    No   \n",
              " 2           Yes        Yes                     Yes                   Yes   \n",
              " 3  Some of them         No                   Maybe                 Maybe   \n",
              " 4  Some of them        Yes                     Yes                   Yes   \n",
              " \n",
              "   mental_vs_physical obs_consequence comments  \n",
              " 0                Yes              No      NaN  \n",
              " 1         Don't know              No      NaN  \n",
              " 2                 No              No      NaN  \n",
              " 3                 No             Yes      NaN  \n",
              " 4         Don't know              No      NaN  \n",
              " \n",
              " [5 rows x 27 columns],\n",
              "                 Age\n",
              " count  1.259000e+03\n",
              " mean   7.942815e+07\n",
              " std    2.818299e+09\n",
              " min   -1.726000e+03\n",
              " 25%    2.700000e+01\n",
              " 50%    3.100000e+01\n",
              " 75%    3.600000e+01\n",
              " max    1.000000e+11)"
            ]
          },
          "metadata": {},
          "execution_count": 1
        }
      ]
    },
    {
      "cell_type": "markdown",
      "source": [
        "Some of rows consist of ivalid Age value,many rows with comments are null but we can just drop this column, work_interfere is a subject for inputing."
      ],
      "metadata": {
        "id": "CRCisCv5jkYc"
      }
    },
    {
      "cell_type": "code",
      "source": [
        "df = df.drop('comments', axis=1)\n",
        "df['work_interfere'] = df['work_interfere'].fillna('Other')"
      ],
      "metadata": {
        "id": "lheg_Awymdhp"
      },
      "execution_count": 2,
      "outputs": []
    },
    {
      "cell_type": "markdown",
      "source": [
        "What is the distribution of mental health conditions among different age groups in the tech industry?"
      ],
      "metadata": {
        "id": "KIZoy3TRyQoD"
      }
    },
    {
      "cell_type": "code",
      "source": [
        "df_age = df[(df['Age'] >= 16) & (df['Age'] <= 100)]\n",
        "df_age.info()\n",
        "df_age.head()\n",
        "df_age.describe()\n",
        "#dropping only in the copy table cause age is rellevant only for first question"
      ],
      "metadata": {
        "colab": {
          "base_uri": "https://localhost:8080/",
          "height": 890
        },
        "id": "dY8sQPZShFKO",
        "outputId": "9cab7742-de9e-4687-b552-a2da0195c0db"
      },
      "execution_count": 5,
      "outputs": [
        {
          "output_type": "stream",
          "name": "stdout",
          "text": [
            "<class 'pandas.core.frame.DataFrame'>\n",
            "Index: 1251 entries, 0 to 1258\n",
            "Data columns (total 26 columns):\n",
            " #   Column                     Non-Null Count  Dtype \n",
            "---  ------                     --------------  ----- \n",
            " 0   Timestamp                  1251 non-null   object\n",
            " 1   Age                        1251 non-null   int64 \n",
            " 2   Gender                     1251 non-null   object\n",
            " 3   Country                    1251 non-null   object\n",
            " 4   state                      738 non-null    object\n",
            " 5   self_employed              1233 non-null   object\n",
            " 6   family_history             1251 non-null   object\n",
            " 7   treatment                  1251 non-null   object\n",
            " 8   work_interfere             1251 non-null   object\n",
            " 9   no_employees               1251 non-null   object\n",
            " 10  remote_work                1251 non-null   object\n",
            " 11  tech_company               1251 non-null   object\n",
            " 12  benefits                   1251 non-null   object\n",
            " 13  care_options               1251 non-null   object\n",
            " 14  wellness_program           1251 non-null   object\n",
            " 15  seek_help                  1251 non-null   object\n",
            " 16  anonymity                  1251 non-null   object\n",
            " 17  leave                      1251 non-null   object\n",
            " 18  mental_health_consequence  1251 non-null   object\n",
            " 19  phys_health_consequence    1251 non-null   object\n",
            " 20  coworkers                  1251 non-null   object\n",
            " 21  supervisor                 1251 non-null   object\n",
            " 22  mental_health_interview    1251 non-null   object\n",
            " 23  phys_health_interview      1251 non-null   object\n",
            " 24  mental_vs_physical         1251 non-null   object\n",
            " 25  obs_consequence            1251 non-null   object\n",
            "dtypes: int64(1), object(25)\n",
            "memory usage: 263.9+ KB\n"
          ]
        },
        {
          "output_type": "execute_result",
          "data": {
            "text/plain": [
              "               Age\n",
              "count  1251.000000\n",
              "mean     32.076739\n",
              "std       7.288272\n",
              "min      18.000000\n",
              "25%      27.000000\n",
              "50%      31.000000\n",
              "75%      36.000000\n",
              "max      72.000000"
            ],
            "text/html": [
              "\n",
              "  <div id=\"df-01744448-b31b-42eb-b079-9dcda4fd5cc9\" class=\"colab-df-container\">\n",
              "    <div>\n",
              "<style scoped>\n",
              "    .dataframe tbody tr th:only-of-type {\n",
              "        vertical-align: middle;\n",
              "    }\n",
              "\n",
              "    .dataframe tbody tr th {\n",
              "        vertical-align: top;\n",
              "    }\n",
              "\n",
              "    .dataframe thead th {\n",
              "        text-align: right;\n",
              "    }\n",
              "</style>\n",
              "<table border=\"1\" class=\"dataframe\">\n",
              "  <thead>\n",
              "    <tr style=\"text-align: right;\">\n",
              "      <th></th>\n",
              "      <th>Age</th>\n",
              "    </tr>\n",
              "  </thead>\n",
              "  <tbody>\n",
              "    <tr>\n",
              "      <th>count</th>\n",
              "      <td>1251.000000</td>\n",
              "    </tr>\n",
              "    <tr>\n",
              "      <th>mean</th>\n",
              "      <td>32.076739</td>\n",
              "    </tr>\n",
              "    <tr>\n",
              "      <th>std</th>\n",
              "      <td>7.288272</td>\n",
              "    </tr>\n",
              "    <tr>\n",
              "      <th>min</th>\n",
              "      <td>18.000000</td>\n",
              "    </tr>\n",
              "    <tr>\n",
              "      <th>25%</th>\n",
              "      <td>27.000000</td>\n",
              "    </tr>\n",
              "    <tr>\n",
              "      <th>50%</th>\n",
              "      <td>31.000000</td>\n",
              "    </tr>\n",
              "    <tr>\n",
              "      <th>75%</th>\n",
              "      <td>36.000000</td>\n",
              "    </tr>\n",
              "    <tr>\n",
              "      <th>max</th>\n",
              "      <td>72.000000</td>\n",
              "    </tr>\n",
              "  </tbody>\n",
              "</table>\n",
              "</div>\n",
              "    <div class=\"colab-df-buttons\">\n",
              "\n",
              "  <div class=\"colab-df-container\">\n",
              "    <button class=\"colab-df-convert\" onclick=\"convertToInteractive('df-01744448-b31b-42eb-b079-9dcda4fd5cc9')\"\n",
              "            title=\"Convert this dataframe to an interactive table.\"\n",
              "            style=\"display:none;\">\n",
              "\n",
              "  <svg xmlns=\"http://www.w3.org/2000/svg\" height=\"24px\" viewBox=\"0 -960 960 960\">\n",
              "    <path d=\"M120-120v-720h720v720H120Zm60-500h600v-160H180v160Zm220 220h160v-160H400v160Zm0 220h160v-160H400v160ZM180-400h160v-160H180v160Zm440 0h160v-160H620v160ZM180-180h160v-160H180v160Zm440 0h160v-160H620v160Z\"/>\n",
              "  </svg>\n",
              "    </button>\n",
              "\n",
              "  <style>\n",
              "    .colab-df-container {\n",
              "      display:flex;\n",
              "      gap: 12px;\n",
              "    }\n",
              "\n",
              "    .colab-df-convert {\n",
              "      background-color: #E8F0FE;\n",
              "      border: none;\n",
              "      border-radius: 50%;\n",
              "      cursor: pointer;\n",
              "      display: none;\n",
              "      fill: #1967D2;\n",
              "      height: 32px;\n",
              "      padding: 0 0 0 0;\n",
              "      width: 32px;\n",
              "    }\n",
              "\n",
              "    .colab-df-convert:hover {\n",
              "      background-color: #E2EBFA;\n",
              "      box-shadow: 0px 1px 2px rgba(60, 64, 67, 0.3), 0px 1px 3px 1px rgba(60, 64, 67, 0.15);\n",
              "      fill: #174EA6;\n",
              "    }\n",
              "\n",
              "    .colab-df-buttons div {\n",
              "      margin-bottom: 4px;\n",
              "    }\n",
              "\n",
              "    [theme=dark] .colab-df-convert {\n",
              "      background-color: #3B4455;\n",
              "      fill: #D2E3FC;\n",
              "    }\n",
              "\n",
              "    [theme=dark] .colab-df-convert:hover {\n",
              "      background-color: #434B5C;\n",
              "      box-shadow: 0px 1px 3px 1px rgba(0, 0, 0, 0.15);\n",
              "      filter: drop-shadow(0px 1px 2px rgba(0, 0, 0, 0.3));\n",
              "      fill: #FFFFFF;\n",
              "    }\n",
              "  </style>\n",
              "\n",
              "    <script>\n",
              "      const buttonEl =\n",
              "        document.querySelector('#df-01744448-b31b-42eb-b079-9dcda4fd5cc9 button.colab-df-convert');\n",
              "      buttonEl.style.display =\n",
              "        google.colab.kernel.accessAllowed ? 'block' : 'none';\n",
              "\n",
              "      async function convertToInteractive(key) {\n",
              "        const element = document.querySelector('#df-01744448-b31b-42eb-b079-9dcda4fd5cc9');\n",
              "        const dataTable =\n",
              "          await google.colab.kernel.invokeFunction('convertToInteractive',\n",
              "                                                    [key], {});\n",
              "        if (!dataTable) return;\n",
              "\n",
              "        const docLinkHtml = 'Like what you see? Visit the ' +\n",
              "          '<a target=\"_blank\" href=https://colab.research.google.com/notebooks/data_table.ipynb>data table notebook</a>'\n",
              "          + ' to learn more about interactive tables.';\n",
              "        element.innerHTML = '';\n",
              "        dataTable['output_type'] = 'display_data';\n",
              "        await google.colab.output.renderOutput(dataTable, element);\n",
              "        const docLink = document.createElement('div');\n",
              "        docLink.innerHTML = docLinkHtml;\n",
              "        element.appendChild(docLink);\n",
              "      }\n",
              "    </script>\n",
              "  </div>\n",
              "\n",
              "\n",
              "<div id=\"df-dff29182-a1ce-4e58-a305-251f2da79abb\">\n",
              "  <button class=\"colab-df-quickchart\" onclick=\"quickchart('df-dff29182-a1ce-4e58-a305-251f2da79abb')\"\n",
              "            title=\"Suggest charts\"\n",
              "            style=\"display:none;\">\n",
              "\n",
              "<svg xmlns=\"http://www.w3.org/2000/svg\" height=\"24px\"viewBox=\"0 0 24 24\"\n",
              "     width=\"24px\">\n",
              "    <g>\n",
              "        <path d=\"M19 3H5c-1.1 0-2 .9-2 2v14c0 1.1.9 2 2 2h14c1.1 0 2-.9 2-2V5c0-1.1-.9-2-2-2zM9 17H7v-7h2v7zm4 0h-2V7h2v10zm4 0h-2v-4h2v4z\"/>\n",
              "    </g>\n",
              "</svg>\n",
              "  </button>\n",
              "\n",
              "<style>\n",
              "  .colab-df-quickchart {\n",
              "      --bg-color: #E8F0FE;\n",
              "      --fill-color: #1967D2;\n",
              "      --hover-bg-color: #E2EBFA;\n",
              "      --hover-fill-color: #174EA6;\n",
              "      --disabled-fill-color: #AAA;\n",
              "      --disabled-bg-color: #DDD;\n",
              "  }\n",
              "\n",
              "  [theme=dark] .colab-df-quickchart {\n",
              "      --bg-color: #3B4455;\n",
              "      --fill-color: #D2E3FC;\n",
              "      --hover-bg-color: #434B5C;\n",
              "      --hover-fill-color: #FFFFFF;\n",
              "      --disabled-bg-color: #3B4455;\n",
              "      --disabled-fill-color: #666;\n",
              "  }\n",
              "\n",
              "  .colab-df-quickchart {\n",
              "    background-color: var(--bg-color);\n",
              "    border: none;\n",
              "    border-radius: 50%;\n",
              "    cursor: pointer;\n",
              "    display: none;\n",
              "    fill: var(--fill-color);\n",
              "    height: 32px;\n",
              "    padding: 0;\n",
              "    width: 32px;\n",
              "  }\n",
              "\n",
              "  .colab-df-quickchart:hover {\n",
              "    background-color: var(--hover-bg-color);\n",
              "    box-shadow: 0 1px 2px rgba(60, 64, 67, 0.3), 0 1px 3px 1px rgba(60, 64, 67, 0.15);\n",
              "    fill: var(--button-hover-fill-color);\n",
              "  }\n",
              "\n",
              "  .colab-df-quickchart-complete:disabled,\n",
              "  .colab-df-quickchart-complete:disabled:hover {\n",
              "    background-color: var(--disabled-bg-color);\n",
              "    fill: var(--disabled-fill-color);\n",
              "    box-shadow: none;\n",
              "  }\n",
              "\n",
              "  .colab-df-spinner {\n",
              "    border: 2px solid var(--fill-color);\n",
              "    border-color: transparent;\n",
              "    border-bottom-color: var(--fill-color);\n",
              "    animation:\n",
              "      spin 1s steps(1) infinite;\n",
              "  }\n",
              "\n",
              "  @keyframes spin {\n",
              "    0% {\n",
              "      border-color: transparent;\n",
              "      border-bottom-color: var(--fill-color);\n",
              "      border-left-color: var(--fill-color);\n",
              "    }\n",
              "    20% {\n",
              "      border-color: transparent;\n",
              "      border-left-color: var(--fill-color);\n",
              "      border-top-color: var(--fill-color);\n",
              "    }\n",
              "    30% {\n",
              "      border-color: transparent;\n",
              "      border-left-color: var(--fill-color);\n",
              "      border-top-color: var(--fill-color);\n",
              "      border-right-color: var(--fill-color);\n",
              "    }\n",
              "    40% {\n",
              "      border-color: transparent;\n",
              "      border-right-color: var(--fill-color);\n",
              "      border-top-color: var(--fill-color);\n",
              "    }\n",
              "    60% {\n",
              "      border-color: transparent;\n",
              "      border-right-color: var(--fill-color);\n",
              "    }\n",
              "    80% {\n",
              "      border-color: transparent;\n",
              "      border-right-color: var(--fill-color);\n",
              "      border-bottom-color: var(--fill-color);\n",
              "    }\n",
              "    90% {\n",
              "      border-color: transparent;\n",
              "      border-bottom-color: var(--fill-color);\n",
              "    }\n",
              "  }\n",
              "</style>\n",
              "\n",
              "  <script>\n",
              "    async function quickchart(key) {\n",
              "      const quickchartButtonEl =\n",
              "        document.querySelector('#' + key + ' button');\n",
              "      quickchartButtonEl.disabled = true;  // To prevent multiple clicks.\n",
              "      quickchartButtonEl.classList.add('colab-df-spinner');\n",
              "      try {\n",
              "        const charts = await google.colab.kernel.invokeFunction(\n",
              "            'suggestCharts', [key], {});\n",
              "      } catch (error) {\n",
              "        console.error('Error during call to suggestCharts:', error);\n",
              "      }\n",
              "      quickchartButtonEl.classList.remove('colab-df-spinner');\n",
              "      quickchartButtonEl.classList.add('colab-df-quickchart-complete');\n",
              "    }\n",
              "    (() => {\n",
              "      let quickchartButtonEl =\n",
              "        document.querySelector('#df-dff29182-a1ce-4e58-a305-251f2da79abb button');\n",
              "      quickchartButtonEl.style.display =\n",
              "        google.colab.kernel.accessAllowed ? 'block' : 'none';\n",
              "    })();\n",
              "  </script>\n",
              "</div>\n",
              "\n",
              "    </div>\n",
              "  </div>\n"
            ],
            "application/vnd.google.colaboratory.intrinsic+json": {
              "type": "dataframe",
              "summary": "{\n  \"name\": \"#dropping only in the copy table cause age is rellevant only for first question\",\n  \"rows\": 8,\n  \"fields\": [\n    {\n      \"column\": \"Age\",\n      \"properties\": {\n        \"dtype\": \"number\",\n        \"std\": 431.4192546633812,\n        \"min\": 7.288271844190504,\n        \"max\": 1251.0,\n        \"num_unique_values\": 8,\n        \"samples\": [\n          32.07673860911271,\n          31.0,\n          1251.0\n        ],\n        \"semantic_type\": \"\",\n        \"description\": \"\"\n      }\n    }\n  ]\n}"
            }
          },
          "metadata": {},
          "execution_count": 5
        }
      ]
    },
    {
      "cell_type": "code",
      "source": [
        "df_tech = df_age[(df_age['tech_company'] == 'Yes') & (df_age['treatment'] == 'Yes')]\n",
        "print(df_tech.head())\n"
      ],
      "metadata": {
        "colab": {
          "base_uri": "https://localhost:8080/"
        },
        "id": "1Tihk60YvVlC",
        "outputId": "3f184945-4016-4420-e543-d5691b800a88"
      },
      "execution_count": 6,
      "outputs": [
        {
          "output_type": "stream",
          "name": "stdout",
          "text": [
            "              Timestamp  Age  Gender         Country state self_employed  \\\n",
            "0   2014-08-27 11:29:31   37  Female   United States    IL           NaN   \n",
            "3   2014-08-27 11:29:46   31    Male  United Kingdom   NaN           NaN   \n",
            "6   2014-08-27 11:31:50   35  Female   United States    MI           NaN   \n",
            "8   2014-08-27 11:32:39   42  Female   United States    IL           NaN   \n",
            "10  2014-08-27 11:32:44   31    Male   United States    OH           NaN   \n",
            "\n",
            "   family_history treatment work_interfere no_employees  ...   anonymity  \\\n",
            "0              No       Yes          Often         6-25  ...         Yes   \n",
            "3             Yes       Yes          Often       26-100  ...          No   \n",
            "6             Yes       Yes      Sometimes          1-5  ...          No   \n",
            "8             Yes       Yes      Sometimes      100-500  ...          No   \n",
            "10             No       Yes      Sometimes         6-25  ...  Don't know   \n",
            "\n",
            "                 leave mental_health_consequence phys_health_consequence  \\\n",
            "0        Somewhat easy                        No                      No   \n",
            "3   Somewhat difficult                       Yes                     Yes   \n",
            "6   Somewhat difficult                     Maybe                   Maybe   \n",
            "8       Very difficult                     Maybe                      No   \n",
            "10          Don't know                        No                      No   \n",
            "\n",
            "       coworkers supervisor mental_health_interview phys_health_interview  \\\n",
            "0   Some of them        Yes                      No                 Maybe   \n",
            "3   Some of them         No                   Maybe                 Maybe   \n",
            "6   Some of them         No                      No                    No   \n",
            "8            Yes        Yes                      No                 Maybe   \n",
            "10  Some of them        Yes                      No                    No   \n",
            "\n",
            "   mental_vs_physical obs_consequence  \n",
            "0                 Yes              No  \n",
            "3                  No             Yes  \n",
            "6          Don't know              No  \n",
            "8                  No              No  \n",
            "10         Don't know              No  \n",
            "\n",
            "[5 rows x 26 columns]\n"
          ]
        }
      ]
    },
    {
      "cell_type": "code",
      "source": [
        "age_bins = [17, 25, 30, 39, 49, 59, 73]\n",
        "age_labels = ['<25', '25-30', '31-39', '41-49', '51-59', '60-72']\n",
        "df_tech['age_group'] = pd.cut(df['Age'], bins=age_bins, labels=age_labels, right=True)\n",
        "age_g_c = df_tech['age_group'].value_counts()\n",
        "print(age_g_c)\n",
        "# print(df[['Age', 'age_group']].head())"
      ],
      "metadata": {
        "colab": {
          "base_uri": "https://localhost:8080/"
        },
        "id": "C6pRFa-vsZqz",
        "outputId": "05e695da-f763-47c6-dbc3-01924c52bf3a"
      },
      "execution_count": 7,
      "outputs": [
        {
          "output_type": "stream",
          "name": "stdout",
          "text": [
            "age_group\n",
            "31-39    196\n",
            "25-30    144\n",
            "<25       86\n",
            "41-49     69\n",
            "51-59     13\n",
            "60-72      2\n",
            "Name: count, dtype: int64\n"
          ]
        },
        {
          "output_type": "stream",
          "name": "stderr",
          "text": [
            "<ipython-input-7-512ae6531827>:3: SettingWithCopyWarning: \n",
            "A value is trying to be set on a copy of a slice from a DataFrame.\n",
            "Try using .loc[row_indexer,col_indexer] = value instead\n",
            "\n",
            "See the caveats in the documentation: https://pandas.pydata.org/pandas-docs/stable/user_guide/indexing.html#returning-a-view-versus-a-copy\n",
            "  df_tech['age_group'] = pd.cut(df['Age'], bins=age_bins, labels=age_labels, right=True)\n"
          ]
        }
      ]
    },
    {
      "cell_type": "markdown",
      "source": [
        "Group with most prevalent mental health issues is 31-39yo, least is 60-72"
      ],
      "metadata": {
        "id": "2JJxleraxhH_"
      }
    },
    {
      "cell_type": "markdown",
      "source": [
        "How does the frequency of mental health issues vary by gender?\n"
      ],
      "metadata": {
        "id": "fZWVNO8GyVFP"
      }
    },
    {
      "cell_type": "code",
      "source": [
        "gender_map = {\n",
        "    'male': 'Male',\n",
        "    'm': 'Male',\n",
        "    'Male(cis)': 'Male',\n",
        "    'female': 'Female',\n",
        "    'f': 'Female',\n",
        "    'woman': 'Female',\n",
        "    'female(cis)': 'Female'\n",
        "}\n",
        "df['Gender'] = df['Gender'].str.lower().map(gender_map).fillna(df['Gender'])\n",
        "genders = df['Gender'].value_counts()\n",
        "print(genders)\n"
      ],
      "metadata": {
        "colab": {
          "base_uri": "https://localhost:8080/"
        },
        "id": "LHOHLMkHu6ld",
        "outputId": "9a8e2dbb-2bfb-4c9b-dff7-d1f743b0ba7e"
      },
      "execution_count": 13,
      "outputs": [
        {
          "output_type": "stream",
          "name": "stdout",
          "text": [
            "Gender\n",
            "Male                                              971\n",
            "Female                                            240\n",
            "Make                                                4\n",
            "Male                                                3\n",
            "Female (trans)                                      2\n",
            "Female                                              2\n",
            "Man                                                 2\n",
            "Cis Male                                            2\n",
            "Trans woman                                         1\n",
            "msle                                                1\n",
            "Neuter                                              1\n",
            "queer                                               1\n",
            "Guy (-ish) ^_^                                      1\n",
            "Female (cis)                                        1\n",
            "Mail                                                1\n",
            "cis male                                            1\n",
            "A little about you                                  1\n",
            "Malr                                                1\n",
            "p                                                   1\n",
            "femail                                              1\n",
            "Cis Man                                             1\n",
            "male leaning androgynous                            1\n",
            "Androgyne                                           1\n",
            "cis-female/femme                                    1\n",
            "Agender                                             1\n",
            "Male-ish                                            1\n",
            "maile                                               1\n",
            "Trans-female                                        1\n",
            "Cis Female                                          1\n",
            "something kinda male?                               1\n",
            "Mal                                                 1\n",
            "Male (CIS)                                          1\n",
            "queer/she/they                                      1\n",
            "non-binary                                          1\n",
            "Femake                                              1\n",
            "Nah                                                 1\n",
            "All                                                 1\n",
            "Enby                                                1\n",
            "fluid                                               1\n",
            "Genderqueer                                         1\n",
            "ostensibly male, unsure what that really means      1\n",
            "Name: count, dtype: int64\n"
          ]
        }
      ]
    },
    {
      "cell_type": "code",
      "source": [
        "treatment_df = df[df['treatment'] == 'Yes']\n",
        "treatment_df['Gender_normalized'] = treatment_df['Gender'].apply(lambda x: x if x in ['Male', 'Female'] else 'Other')\n",
        "gender_counts = treatment_df['Gender_normalized'].value_counts()\n",
        "print(gender_counts)"
      ],
      "metadata": {
        "colab": {
          "base_uri": "https://localhost:8080/"
        },
        "id": "GHLg_-Xy1gOb",
        "outputId": "4c88df72-f7e9-4937-873e-6c6d13c893bf"
      },
      "execution_count": 14,
      "outputs": [
        {
          "output_type": "stream",
          "name": "stdout",
          "text": [
            "Gender_normalized\n",
            "Male      440\n",
            "Female    167\n",
            "Other      30\n",
            "Name: count, dtype: int64\n"
          ]
        },
        {
          "output_type": "stream",
          "name": "stderr",
          "text": [
            "<ipython-input-14-b0430342f6fb>:2: SettingWithCopyWarning: \n",
            "A value is trying to be set on a copy of a slice from a DataFrame.\n",
            "Try using .loc[row_indexer,col_indexer] = value instead\n",
            "\n",
            "See the caveats in the documentation: https://pandas.pydata.org/pandas-docs/stable/user_guide/indexing.html#returning-a-view-versus-a-copy\n",
            "  treatment_df['Gender_normalized'] = treatment_df['Gender'].apply(lambda x: x if x in ['Male', 'Female'] else 'Other')\n"
          ]
        }
      ]
    },
    {
      "cell_type": "code",
      "source": [
        "import matplotlib.pyplot as plt\n",
        "plt.figure(figsize=(8, 6))\n",
        "gender_counts.plot(kind='bar', color=['skyblue', 'lightgreen', 'salmon'])\n",
        "plt.title('Gender Distribution for Those Receiving Treatment', fontsize=16)\n",
        "plt.xlabel('Gender', fontsize=14)\n",
        "plt.ylabel('Count', fontsize=14)\n",
        "plt.xticks(rotation=0)\n",
        "plt.grid(axis='y', linestyle='--')\n",
        "plt.tight_layout()\n",
        "plt.show()"
      ],
      "metadata": {
        "colab": {
          "base_uri": "https://localhost:8080/",
          "height": 607
        },
        "id": "4XGNRPU2p6Sh",
        "outputId": "8a7da3c2-6147-44ff-a8ad-331905e6358c"
      },
      "execution_count": 45,
      "outputs": [
        {
          "output_type": "display_data",
          "data": {
            "text/plain": [
              "<Figure size 800x600 with 1 Axes>"
            ],
            "image/png": "[encoded data removed]"
          },
          "metadata": {}
        }
      ]
    },
    {
      "cell_type": "markdown",
      "source": [
        "As we can see most frequent mental health issues are with Males"
      ],
      "metadata": {
        "id": "LTtc6yZP1sTS"
      }
    },
    {
      "cell_type": "markdown",
      "source": [
        "Identify the countries with the highest and lowest reported rates of mental health issues in the tech industry.\n"
      ],
      "metadata": {
        "id": "7k6pPiWv17BQ"
      }
    },
    {
      "cell_type": "code",
      "source": [
        "df_tech = df[(df['tech_company'] == 'Yes')*(df['treatment'] == 'Yes')]\n",
        "print(df_tech)"
      ],
      "metadata": {
        "colab": {
          "base_uri": "https://localhost:8080/"
        },
        "id": "mMUtE7y52A8o",
        "outputId": "d9f1e6c8-7f1d-4449-9548-262cf39e58f6"
      },
      "execution_count": 34,
      "outputs": [
        {
          "output_type": "stream",
          "name": "stdout",
          "text": [
            "                Timestamp  Age  Gender         Country state self_employed  \\\n",
            "0     2014-08-27 11:29:31   37  Female   United States    IL           NaN   \n",
            "3     2014-08-27 11:29:46   31    Male  United Kingdom   NaN           NaN   \n",
            "6     2014-08-27 11:31:50   35  Female   United States    MI           NaN   \n",
            "8     2014-08-27 11:32:39   42  Female   United States    IL           NaN   \n",
            "10    2014-08-27 11:32:44   31    Male   United States    OH           NaN   \n",
            "...                   ...  ...     ...             ...   ...           ...   \n",
            "1250  2015-07-27 23:25:34   30    Male   United States    CA           Yes   \n",
            "1252  2015-08-20 16:52:09   29    Male   United States    NC            No   \n",
            "1254  2015-09-12 11:17:21   26    Male  United Kingdom   NaN            No   \n",
            "1255  2015-09-26 01:07:35   32    Male   United States    IL            No   \n",
            "1256  2015-11-07 12:36:58   34    Male   United States    CA            No   \n",
            "\n",
            "     family_history treatment work_interfere    no_employees  ...  \\\n",
            "0                No       Yes          Often            6-25  ...   \n",
            "3               Yes       Yes          Often          26-100  ...   \n",
            "6               Yes       Yes      Sometimes             1-5  ...   \n",
            "8               Yes       Yes      Sometimes         100-500  ...   \n",
            "10               No       Yes      Sometimes            6-25  ...   \n",
            "...             ...       ...            ...             ...  ...   \n",
            "1250            Yes       Yes          Often          26-100  ...   \n",
            "1252            Yes       Yes      Sometimes         100-500  ...   \n",
            "1254             No       Yes          Other          26-100  ...   \n",
            "1255            Yes       Yes          Often          26-100  ...   \n",
            "1256            Yes       Yes      Sometimes  More than 1000  ...   \n",
            "\n",
            "     mental_health_consequence phys_health_consequence     coworkers  \\\n",
            "0                           No                      No  Some of them   \n",
            "3                          Yes                     Yes  Some of them   \n",
            "6                        Maybe                   Maybe  Some of them   \n",
            "8                        Maybe                      No           Yes   \n",
            "10                          No                      No  Some of them   \n",
            "...                        ...                     ...           ...   \n",
            "1250                        No                      No  Some of them   \n",
            "1252                       Yes                      No  Some of them   \n",
            "1254                        No                      No  Some of them   \n",
            "1255                        No                      No  Some of them   \n",
            "1256                       Yes                     Yes            No   \n",
            "\n",
            "        supervisor mental_health_interview phys_health_interview  \\\n",
            "0              Yes                      No                 Maybe   \n",
            "3               No                   Maybe                 Maybe   \n",
            "6               No                      No                    No   \n",
            "8              Yes                      No                 Maybe   \n",
            "10             Yes                      No                    No   \n",
            "...            ...                     ...                   ...   \n",
            "1250           Yes                   Maybe                 Maybe   \n",
            "1252            No                      No                 Maybe   \n",
            "1254  Some of them                      No                    No   \n",
            "1255           Yes                      No                    No   \n",
            "1256            No                      No                    No   \n",
            "\n",
            "     mental_vs_physical obs_consequence Gender_normalized treatment_category  \n",
            "0                   Yes              No            Female                Yes  \n",
            "3                    No             Yes              Male                Yes  \n",
            "6            Don't know              No            Female                Yes  \n",
            "8                    No              No            Female                Yes  \n",
            "10           Don't know              No              Male                Yes  \n",
            "...                 ...             ...               ...                ...  \n",
            "1250                Yes              No              Male                Yes  \n",
            "1252                 No              No             Other                Yes  \n",
            "1254         Don't know              No             Other                Yes  \n",
            "1255                Yes              No              Male                Yes  \n",
            "1256                 No              No             Other                Yes  \n",
            "\n",
            "[514 rows x 28 columns]\n"
          ]
        }
      ]
    },
    {
      "cell_type": "code",
      "source": [
        "countries = df_tech['Country'].value_counts()\n",
        "countries"
      ],
      "metadata": {
        "colab": {
          "base_uri": "https://localhost:8080/",
          "height": 962
        },
        "id": "y_peVJrS2dDR",
        "outputId": "4fa664ac-2b56-4260-9cd5-36b340535096"
      },
      "execution_count": 35,
      "outputs": [
        {
          "output_type": "execute_result",
          "data": {
            "text/plain": [
              "Country\n",
              "United States     337\n",
              "United Kingdom     67\n",
              "Canada             24\n",
              "Germany            17\n",
              "Ireland            12\n",
              "Australia          11\n",
              "Netherlands         9\n",
              "New Zealand         4\n",
              "Poland              4\n",
              "Switzerland         3\n",
              "India               3\n",
              "Croatia             2\n",
              "Bulgaria            2\n",
              "France              2\n",
              "South Africa        2\n",
              "Sweden              2\n",
              "Brazil              2\n",
              "Denmark             2\n",
              "Italy               1\n",
              "Moldova             1\n",
              "Singapore           1\n",
              "Zimbabwe            1\n",
              "Bahamas, The        1\n",
              "Japan               1\n",
              "Slovenia            1\n",
              "Mexico              1\n",
              "Finland             1\n",
              "Name: count, dtype: int64"
            ],
            "text/html": [
              "<div>\n",
              "<style scoped>\n",
              "    .dataframe tbody tr th:only-of-type {\n",
              "        vertical-align: middle;\n",
              "    }\n",
              "\n",
              "    .dataframe tbody tr th {\n",
              "        vertical-align: top;\n",
              "    }\n",
              "\n",
              "    .dataframe thead th {\n",
              "        text-align: right;\n",
              "    }\n",
              "</style>\n",
              "<table border=\"1\" class=\"dataframe\">\n",
              "  <thead>\n",
              "    <tr style=\"text-align: right;\">\n",
              "      <th></th>\n",
              "      <th>count</th>\n",
              "    </tr>\n",
              "    <tr>\n",
              "      <th>Country</th>\n",
              "      <th></th>\n",
              "    </tr>\n",
              "  </thead>\n",
              "  <tbody>\n",
              "    <tr>\n",
              "      <th>United States</th>\n",
              "      <td>337</td>\n",
              "    </tr>\n",
              "    <tr>\n",
              "      <th>United Kingdom</th>\n",
              "      <td>67</td>\n",
              "    </tr>\n",
              "    <tr>\n",
              "      <th>Canada</th>\n",
              "      <td>24</td>\n",
              "    </tr>\n",
              "    <tr>\n",
              "      <th>Germany</th>\n",
              "      <td>17</td>\n",
              "    </tr>\n",
              "    <tr>\n",
              "      <th>Ireland</th>\n",
              "      <td>12</td>\n",
              "    </tr>\n",
              "    <tr>\n",
              "      <th>Australia</th>\n",
              "      <td>11</td>\n",
              "    </tr>\n",
              "    <tr>\n",
              "      <th>Netherlands</th>\n",
              "      <td>9</td>\n",
              "    </tr>\n",
              "    <tr>\n",
              "      <th>New Zealand</th>\n",
              "      <td>4</td>\n",
              "    </tr>\n",
              "    <tr>\n",
              "      <th>Poland</th>\n",
              "      <td>4</td>\n",
              "    </tr>\n",
              "    <tr>\n",
              "      <th>Switzerland</th>\n",
              "      <td>3</td>\n",
              "    </tr>\n",
              "    <tr>\n",
              "      <th>India</th>\n",
              "      <td>3</td>\n",
              "    </tr>\n",
              "    <tr>\n",
              "      <th>Croatia</th>\n",
              "      <td>2</td>\n",
              "    </tr>\n",
              "    <tr>\n",
              "      <th>Bulgaria</th>\n",
              "      <td>2</td>\n",
              "    </tr>\n",
              "    <tr>\n",
              "      <th>France</th>\n",
              "      <td>2</td>\n",
              "    </tr>\n",
              "    <tr>\n",
              "      <th>South Africa</th>\n",
              "      <td>2</td>\n",
              "    </tr>\n",
              "    <tr>\n",
              "      <th>Sweden</th>\n",
              "      <td>2</td>\n",
              "    </tr>\n",
              "    <tr>\n",
              "      <th>Brazil</th>\n",
              "      <td>2</td>\n",
              "    </tr>\n",
              "    <tr>\n",
              "      <th>Denmark</th>\n",
              "      <td>2</td>\n",
              "    </tr>\n",
              "    <tr>\n",
              "      <th>Italy</th>\n",
              "      <td>1</td>\n",
              "    </tr>\n",
              "    <tr>\n",
              "      <th>Moldova</th>\n",
              "      <td>1</td>\n",
              "    </tr>\n",
              "    <tr>\n",
              "      <th>Singapore</th>\n",
              "      <td>1</td>\n",
              "    </tr>\n",
              "    <tr>\n",
              "      <th>Zimbabwe</th>\n",
              "      <td>1</td>\n",
              "    </tr>\n",
              "    <tr>\n",
              "      <th>Bahamas, The</th>\n",
              "      <td>1</td>\n",
              "    </tr>\n",
              "    <tr>\n",
              "      <th>Japan</th>\n",
              "      <td>1</td>\n",
              "    </tr>\n",
              "    <tr>\n",
              "      <th>Slovenia</th>\n",
              "      <td>1</td>\n",
              "    </tr>\n",
              "    <tr>\n",
              "      <th>Mexico</th>\n",
              "      <td>1</td>\n",
              "    </tr>\n",
              "    <tr>\n",
              "      <th>Finland</th>\n",
              "      <td>1</td>\n",
              "    </tr>\n",
              "  </tbody>\n",
              "</table>\n",
              "</div><br><label><b>dtype:</b> int64</label>"
            ]
          },
          "metadata": {},
          "execution_count": 35
        }
      ]
    },
    {
      "cell_type": "code",
      "source": [
        "country_mental_health = df[df['treatment'] == 'Yes'].groupby(['Country', 'mental_health_consequence'])['mental_health_consequence'].count().unstack(fill_value=0)\n",
        "country_mental_health['Total'] = country_mental_health.sum(axis=1)\n",
        "country_mental_health = country_mental_health[country_mental_health['Total'] >= 20]\n",
        "country_mental_health = country_mental_health.sort_values(by='Total', ascending=False)\n",
        "country_mental_health = country_mental_health.drop('Total', axis=1)\n",
        "\n",
        "plt.figure(figsize=(12, 6))\n",
        "country_mental_health.plot(kind='bar', stacked=True, colormap='viridis')\n",
        "plt.title('Mental Health Consequences by Country')\n",
        "plt.xlabel('Country')\n",
        "plt.ylabel('Number of Respondents')\n",
        "plt.xticks(rotation=45, ha='right')\n",
        "plt.legend(title='Mental Health Consequence')\n",
        "plt.tight_layout()\n",
        "plt.show()"
      ],
      "metadata": {
        "colab": {
          "base_uri": "https://localhost:8080/",
          "height": 505
        },
        "id": "kzrCTB9craag",
        "outputId": "23fd6fdd-05b4-4f0e-d8fd-0159db5f67c3"
      },
      "execution_count": 54,
      "outputs": [
        {
          "output_type": "display_data",
          "data": {
            "text/plain": [
              "<Figure size 1200x600 with 0 Axes>"
            ]
          },
          "metadata": {}
        },
        {
          "output_type": "display_data",
          "data": {
            "text/plain": [
              "<Figure size 640x480 with 1 Axes>"
            ],
            "image/png": "[encoded data removed]"
          },
          "metadata": {}
        }
      ]
    },
    {
      "cell_type": "markdown",
      "source": [
        "US as a highest, China lowest with countries like Portugal, Denmark etc being close by frequence of mental health issues\n",
        "Usually a bit less than 1/3rd of participants thinks that discussing a mental health issue with their employer would have negative consequences, other 1/3rd doesn't agree with the statement and the last group not sure."
      ],
      "metadata": {
        "id": "FeGCI7gq2_sR"
      }
    }
  ],
  "metadata": {
    "colab": {
      "provenance": []
    },
    "kernelspec": {
      "display_name": "Python 3",
      "name": "python3"
    },
    "language_info": {
      "name": "python"
    }
  },
  "nbformat": 4,
  "nbformat_minor": 0
}