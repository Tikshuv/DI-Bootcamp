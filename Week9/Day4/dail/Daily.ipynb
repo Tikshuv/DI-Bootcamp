{
  "nbformat": 4,
  "nbformat_minor": 0,
  "metadata": {
    "colab": {
      "provenance": []
    },
    "kernelspec": {
      "name": "python3",
      "display_name": "Python 3"
    },
    "language_info": {
      "name": "python"
    }
  },
  "cells": [
    {
      "cell_type": "markdown",
      "source": [
        "Task\n",
        "1. Load and Explore the Data\n",
        "\n",
        "Import the necessary libraries: pandas and sqlite3.\n",
        "Connect to the IPL database and load the master table to understand the structure.\n",
        "Load all the tables and print their column names to identify common columns.\n"
      ],
      "metadata": {
        "id": "VvXmYAdLTls_"
      }
    },
    {
      "cell_type": "code",
      "execution_count": 5,
      "metadata": {
        "id": "FzUVt8o60lTT"
      },
      "outputs": [],
      "source": [
        "import numpy as np\n",
        "import pandas as pd\n",
        "import sqlite3\n",
        "conn = sqlite3.connect('/content/database.sqlite')"
      ]
    },
    {
      "cell_type": "code",
      "source": [
        "tables = pd.read_sql_query(\"SELECT name FROM sqlite_master WHERE type='table';\", conn)\n",
        "for table_name in tables['name']:\n",
        "    try:\n",
        "        columns = pd.read_sql_query(f\"PRAGMA table_info({table_name});\", conn)\n",
        "        print(f\"\\nTable: {table_name}\")\n",
        "        print(columns['name'].tolist())\n",
        "    except Exception as e:\n",
        "        print(f\"Error accessing table {table_name}: {e}\")"
      ],
      "metadata": {
        "colab": {
          "base_uri": "https://localhost:8080/"
        },
        "id": "NMGqbcKBTfNW",
        "outputId": "f1362246-8c8b-4366-c119-7b55e1928578"
      },
      "execution_count": 6,
      "outputs": [
        {
          "output_type": "stream",
          "name": "stdout",
          "text": [
            "\n",
            "Table: Player\n",
            "['Player_Id', 'Player_Name', 'DOB', 'Batting_hand', 'Bowling_skill', 'Country_Name']\n",
            "\n",
            "Table: Extra_Runs\n",
            "['Match_Id', 'Over_Id', 'Ball_Id', 'Extra_Type_Id', 'Extra_Runs', 'Innings_No']\n",
            "\n",
            "Table: Batsman_Scored\n",
            "['Match_Id', 'Over_Id', 'Ball_Id', 'Runs_Scored', 'Innings_No']\n",
            "\n",
            "Table: Batting_Style\n",
            "['Batting_Id', 'Batting_hand']\n",
            "\n",
            "Table: Bowling_Style\n",
            "['Bowling_Id', 'Bowling_skill']\n",
            "\n",
            "Table: Country\n",
            "['Country_Id', 'Country_Name']\n",
            "\n",
            "Table: Season\n",
            "['Season_Id', 'Man_of_the_Series', 'Orange_Cap', 'Purple_Cap', 'Season_Year']\n",
            "\n",
            "Table: City\n",
            "['City_Id', 'City_Name', 'Country_id']\n",
            "\n",
            "Table: Outcome\n",
            "['Outcome_Id', 'Outcome_Type']\n",
            "\n",
            "Table: Win_By\n",
            "['Win_Id', 'Win_Type']\n",
            "\n",
            "Table: Wicket_Taken\n",
            "['Match_Id', 'Over_Id', 'Ball_Id', 'Player_Out', 'Kind_Out', 'Fielders', 'Innings_No']\n",
            "\n",
            "Table: Venue\n",
            "['Venue_Id', 'Venue_Name', 'City_Id']\n",
            "\n",
            "Table: Extra_Type\n",
            "['Extra_Id', 'Extra_Name']\n",
            "\n",
            "Table: Out_Type\n",
            "['Out_Id', 'Out_Name']\n",
            "\n",
            "Table: Toss_Decision\n",
            "['Toss_Id', 'Toss_Name']\n",
            "\n",
            "Table: Umpire\n",
            "['Umpire_Id', 'Umpire_Name', 'Umpire_Country']\n",
            "\n",
            "Table: Team\n",
            "['Team_Id', 'Team_Name']\n",
            "\n",
            "Table: Ball_by_Ball\n",
            "['Match_Id', 'Over_Id', 'Ball_Id', 'Innings_No', 'Team_Batting', 'Team_Bowling', 'Striker_Batting_Position', 'Striker', 'Non_Striker', 'Bowler']\n",
            "\n",
            "Table: sysdiagrams\n",
            "['name', 'principal_id', 'diagram_id', 'version', 'definition']\n",
            "\n",
            "Table: sqlite_sequence\n",
            "['name', 'seq']\n",
            "\n",
            "Table: Match\n",
            "['Match_Id', 'Team_1', 'Team_2', 'Match_Date', 'Season_Id', 'Venue_Id', 'Toss_Winner', 'Toss_Decide', 'Win_Type', 'Win_Margin', 'Outcome_type', 'Match_Winner', 'Man_of_the_Match']\n",
            "\n",
            "Table: Rolee\n",
            "['Role_Id', 'Role_Desc']\n",
            "\n",
            "Table: Player_Match\n",
            "['Match_Id', 'Player_Id', 'Role_Id', 'Team_Id']\n"
          ]
        }
      ]
    },
    {
      "cell_type": "markdown",
      "source": [
        "2. Query 1: Select All Columns from Player’s Table\n",
        "\n",
        "Write and execute a SQL query to select all columns from the Player_Match table.\n"
      ],
      "metadata": {
        "id": "UOMusZTlUw9l"
      }
    },
    {
      "cell_type": "code",
      "source": [
        "df = pd.read_sql_query(\"SELECT * FROM Player_Match;\", conn)\n",
        "print(df)"
      ],
      "metadata": {
        "colab": {
          "base_uri": "https://localhost:8080/"
        },
        "id": "ZFPVcIDAUYKu",
        "outputId": "201bdb10-a0c3-419e-acdf-b48a36150a48"
      },
      "execution_count": 7,
      "outputs": [
        {
          "output_type": "stream",
          "name": "stdout",
          "text": [
            "       Match_Id  Player_Id  Role_Id  Team_Id\n",
            "0        335987          1        1        1\n",
            "1        335987          2        3        1\n",
            "2        335987          3        3        1\n",
            "3        335987          4        3        1\n",
            "4        335987          5        3        1\n",
            "...         ...        ...      ...      ...\n",
            "12689    981024        385        3       11\n",
            "12690    981024        394        3       11\n",
            "12691    981024        429        3       11\n",
            "12692    981024        434        3        2\n",
            "12693    981024        460        3       11\n",
            "\n",
            "[12694 rows x 4 columns]\n"
          ]
        }
      ]
    },
    {
      "cell_type": "markdown",
      "source": [
        "3. Query 2: Batsman vs Runs\n",
        "\n",
        "Write and execute a SQL query to calculate the total runs scored by each batsman.\n"
      ],
      "metadata": {
        "id": "EFRwDMogUyu6"
      }
    },
    {
      "cell_type": "code",
      "source": [
        "query1 = '''\n",
        "SELECT p.Player_Name, SUM(b.Runs_Scored) AS Total_Runs\n",
        "FROM Batsman_Scored b\n",
        "JOIN Player_Match pm ON b.Match_Id = pm.Match_Id\n",
        "JOIN Player p ON pm.Player_Id = p.Player_Id\n",
        "GROUP BY p.Player_Name\n",
        "ORDER BY Total_Runs DESC\n",
        "'''\n",
        "df = pd.read_sql_query(query1, conn)\n",
        "print(df)"
      ],
      "metadata": {
        "colab": {
          "base_uri": "https://localhost:8080/"
        },
        "id": "P_cL1i-6U62U",
        "outputId": "0ae1cd15-044d-4885-b2cd-ef8ed08e366f"
      },
      "execution_count": 18,
      "outputs": [
        {
          "output_type": "stream",
          "name": "stdout",
          "text": [
            "       Player_Name  Total_Runs\n",
            "0         SK Raina       43101\n",
            "1         MS Dhoni       41667\n",
            "2        RG Sharma       41431\n",
            "3          V Kohli       40563\n",
            "4       KD Karthik       39424\n",
            "..             ...         ...\n",
            "464  NJ Rimmington         211\n",
            "465     P Prasanth         183\n",
            "466      DR Martyn         171\n",
            "467       RV Pawar         117\n",
            "468      SS Mundhe          51\n",
            "\n",
            "[469 rows x 2 columns]\n"
          ]
        }
      ]
    },
    {
      "cell_type": "markdown",
      "source": [
        "4. Query 3: Fifties and Hundreds\n",
        "\n",
        "Write and execute a SQL query to calculate the number of fifties and hundreds scored by each batsman.\n"
      ],
      "metadata": {
        "id": "rOLoWKf8U2Qf"
      }
    },
    {
      "cell_type": "code",
      "source": [
        "query2 = '''\n",
        "SELECT\n",
        "p.Player_Id,\n",
        "p.Player_Name,\n",
        "COUNT(CASE WHEN total_runs BETWEEN 50 AND 99 THEN 1 END) AS Fifties,\n",
        "COUNT(CASE WHEN total_runs >= 100 THEN 1 END) AS Hundreds\n",
        "FROM (\n",
        "SELECT\n",
        "b.Striker AS Player_Id,\n",
        "SUM(bs.Runs_Scored) AS total_runs,\n",
        "bs.Match_Id\n",
        "FROM Batsman_Scored bs\n",
        "JOIN Ball_by_Ball b ON bs.Match_Id = b.Match_Id\n",
        "AND bs.Over_Id = b.Over_Id\n",
        "AND bs.Ball_Id = b.Ball_Id\n",
        "GROUP BY bs.Match_Id, b.Striker\n",
        ") AS match_runs\n",
        "JOIN Player p ON match_runs.Player_Id = p.Player_Id\n",
        "GROUP BY p.Player_Id, p.Player_Name\n",
        "ORDER BY Hundreds DESC, Fifties DESC\n",
        "'''\n",
        "df = pd.read_sql_query(query2, conn)\n",
        "print(df)\n"
      ],
      "metadata": {
        "colab": {
          "base_uri": "https://localhost:8080/"
        },
        "id": "1wqy9xebVD9s",
        "outputId": "b7f19a54-3931-49a5-ea04-cf86cced2aa5"
      },
      "execution_count": 19,
      "outputs": [
        {
          "output_type": "stream",
          "name": "stdout",
          "text": [
            "     Player_Id      Player_Name  Fifties  Hundreds\n",
            "0            8          V Kohli       29        32\n",
            "1          187        DA Warner       21        28\n",
            "2           40        G Gambhir       32        24\n",
            "3          162         CH Gayle       19        24\n",
            "4           85        AM Rahane       18        21\n",
            "..         ...              ...      ...       ...\n",
            "429         16         SB Joshi        0         0\n",
            "430         15           Z Khan        0         0\n",
            "431         13        AA Noffke        0         0\n",
            "432         12          B Akhil        0         0\n",
            "433          5  Mohammad Hafeez        0         0\n",
            "\n",
            "[434 rows x 4 columns]\n"
          ]
        }
      ]
    },
    {
      "cell_type": "markdown",
      "source": [
        "5. Query 4: Best Bowling Figures\n",
        "\n",
        "Write and execute a SQL query to find the best bowling figures for each bowler.\n"
      ],
      "metadata": {
        "id": "Qp4LTFvLU3V7"
      }
    },
    {
      "cell_type": "code",
      "source": [
        "query3 = '''\n",
        "SELECT\n",
        "p.Player_Id,\n",
        "p.Player_Name,\n",
        "best_bowling.Match_Id,\n",
        "best_bowling.Wickets,\n",
        "best_bowling.Runs_Conceded\n",
        "FROM (\n",
        "SELECT\n",
        "b.Bowler AS Player_Id,\n",
        "b.Match_Id,\n",
        "COUNT(w.Player_Out) AS Wickets,\n",
        "SUM(bs.Runs_Scored + IFNULL(er.Extra_Runs, 0)) AS Runs_Conceded\n",
        "FROM Ball_by_Ball b\n",
        "LEFT JOIN Wicket_Taken w\n",
        "ON b.Match_Id = w.Match_Id\n",
        "AND b.Over_Id = w.Over_Id\n",
        "AND b.Ball_Id = w.Ball_Id\n",
        "AND b.Bowler = w.Player_Out\n",
        "LEFT JOIN Batsman_Scored bs\n",
        "ON b.Match_Id = bs.Match_Id\n",
        "AND b.Over_Id = bs.Over_Id\n",
        "AND b.Ball_Id = bs.Ball_Id\n",
        "LEFT JOIN Extra_Runs er\n",
        "ON b.Match_Id = er.Match_Id\n",
        "AND b.Over_Id = er.Over_Id\n",
        "AND b.Ball_Id = er.Ball_Id\n",
        "GROUP BY b.Bowler, b.Match_Id\n",
        ") AS best_bowling\n",
        "JOIN Player p ON best_bowling.Player_Id = p.Player_Id\n",
        "WHERE best_bowling.Wickets > 0\n",
        "ORDER BY best_bowling.Wickets DESC, best_bowling.Runs_Conceded ASC\n",
        "'''\n",
        "df = pd.read_sql_query(query3, conn)\n",
        "print(df)"
      ],
      "metadata": {
        "colab": {
          "base_uri": "https://localhost:8080/"
        },
        "id": "PtiIFZQhWv1_",
        "outputId": "5afd11a3-2e81-4034-a7c8-9a9eddb957dc"
      },
      "execution_count": 22,
      "outputs": [
        {
          "output_type": "stream",
          "name": "stdout",
          "text": [
            "      Player_Id    Player_Name  Total_Runs  Fifties  Hundreds  Wickets  \\\n",
            "0            21       SK Raina       43101     44.0      19.0      2.0   \n",
            "1            21       SK Raina       43101     44.0      19.0      2.0   \n",
            "2            21       SK Raina       43101     44.0      19.0      2.0   \n",
            "3            21       SK Raina       43101     44.0      19.0      2.0   \n",
            "4            21       SK Raina       43101     44.0      19.0      2.0   \n",
            "...         ...            ...         ...      ...       ...      ...   \n",
            "6999        265  NJ Rimmington         211      0.0       0.0      0.0   \n",
            "7000        447     P Prasanth         183      NaN       NaN      0.0   \n",
            "7001        225      DR Martyn         171      0.0       0.0      NaN   \n",
            "7002        467       RV Pawar         117      NaN       NaN      NaN   \n",
            "7003        448      SS Mundhe          51      NaN       NaN      0.0   \n",
            "\n",
            "      Runs_Conceded  \n",
            "0              16.0  \n",
            "1              24.0  \n",
            "2              24.0  \n",
            "3              27.0  \n",
            "4              44.0  \n",
            "...             ...  \n",
            "6999           34.0  \n",
            "7000           19.0  \n",
            "7001            NaN  \n",
            "7002            NaN  \n",
            "7003            5.0  \n",
            "\n",
            "[7004 rows x 7 columns]\n"
          ]
        }
      ]
    },
    {
      "cell_type": "markdown",
      "source": [
        "6. Query 5: Comprehensive Career Metrics\n",
        "\n",
        "Combine all the previous chunks into a single comprehensive query to get detailed career metrics for players."
      ],
      "metadata": {
        "id": "YCxAKnQqU4W5"
      }
    },
    {
      "cell_type": "code",
      "source": [
        "query4 = '''\n",
        "WITH Runs AS (\n",
        "SELECT p.Player_Id, p.Player_Name, SUM(b.Runs_Scored) AS Total_Runs\n",
        "FROM Batsman_Scored b\n",
        "JOIN Player_Match pm ON b.Match_Id = pm.Match_Id\n",
        "JOIN Player p ON pm.Player_Id = p.Player_Id\n",
        "GROUP BY p.Player_Id, p.Player_Name\n",
        "),\n",
        "FiftiesHundreds AS (\n",
        "SELECT p.Player_Id,\n",
        "COUNT(CASE WHEN total_runs BETWEEN 50 AND 99 THEN 1 END) AS Fifties,\n",
        "COUNT(CASE WHEN total_runs >= 100 THEN 1 END) AS Hundreds\n",
        "FROM (\n",
        "SELECT\n",
        "b.Striker AS Player_Id,\n",
        "SUM(bs.Runs_Scored) AS total_runs\n",
        "FROM Batsman_Scored bs\n",
        "JOIN Ball_by_Ball b ON bs.Match_Id = b.Match_Id\n",
        "AND bs.Over_Id = b.Over_Id\n",
        "AND bs.Ball_Id = b.Ball_Id\n",
        "GROUP BY bs.Match_Id, b.Striker\n",
        ") AS match_runs\n",
        "JOIN Player p ON match_runs.Player_Id = p.Player_Id\n",
        "GROUP BY p.Player_Id\n",
        "),\n",
        "BestBowling AS (\n",
        "SELECT\n",
        "b.Bowler AS Player_Id,\n",
        "COUNT(w.Player_Out) AS Wickets,\n",
        "SUM(bs.Runs_Scored + IFNULL(er.Extra_Runs, 0)) AS Runs_Conceded,\n",
        "b.Match_Id\n",
        "FROM Ball_by_Ball b\n",
        "LEFT JOIN Wicket_Taken w\n",
        "ON b.Match_Id = w.Match_Id\n",
        "AND b.Over_Id = w.Over_Id\n",
        "AND b.Ball_Id = w.Ball_Id\n",
        "AND b.Bowler = w.Player_Out\n",
        "LEFT JOIN Batsman_Scored bs\n",
        "ON b.Match_Id = bs.Match_Id\n",
        "AND b.Over_Id = bs.Over_Id\n",
        "AND b.Ball_Id = bs.Ball_Id\n",
        "LEFT JOIN Extra_Runs er\n",
        "ON b.Match_Id = er.Match_Id\n",
        "AND b.Over_Id = er.Over_Id\n",
        "AND b.Ball_Id = er.Ball_Id\n",
        "GROUP BY b.Bowler, b.Match_Id\n",
        ")\n",
        "SELECT\n",
        "p.Player_Id,\n",
        "p.Player_Name,\n",
        "r.Total_Runs,\n",
        "fh.Fifties,\n",
        "fh.Hundreds,\n",
        "bw.Wickets,\n",
        "bw.Runs_Conceded\n",
        "FROM Player p\n",
        "LEFT JOIN Runs r ON p.Player_Id = r.Player_Id\n",
        "LEFT JOIN FiftiesHundreds fh ON p.Player_Id = fh.Player_Id\n",
        "LEFT JOIN BestBowling bw ON p.Player_Id = bw.Player_Id\n",
        "ORDER BY r.Total_Runs DESC, bw.Wickets DESC, bw.Runs_Conceded ASC;\n",
        "'''\n",
        "df = pd.read_sql_query(query4, conn)\n",
        "print(df)"
      ],
      "metadata": {
        "colab": {
          "base_uri": "https://localhost:8080/"
        },
        "id": "5MwWMj2eXFmI",
        "outputId": "90ade0ab-d15c-42bc-8a69-14116a80e193"
      },
      "execution_count": 26,
      "outputs": [
        {
          "output_type": "stream",
          "name": "stdout",
          "text": [
            "      Player_Id    Player_Name  Total_Runs  Fifties  Hundreds  Wickets  \\\n",
            "0            21       SK Raina       43101     44.0      19.0      2.0   \n",
            "1            21       SK Raina       43101     44.0      19.0      2.0   \n",
            "2            21       SK Raina       43101     44.0      19.0      2.0   \n",
            "3            21       SK Raina       43101     44.0      19.0      2.0   \n",
            "4            21       SK Raina       43101     44.0      19.0      2.0   \n",
            "...         ...            ...         ...      ...       ...      ...   \n",
            "6999        265  NJ Rimmington         211      0.0       0.0      0.0   \n",
            "7000        447     P Prasanth         183      NaN       NaN      0.0   \n",
            "7001        225      DR Martyn         171      0.0       0.0      NaN   \n",
            "7002        467       RV Pawar         117      NaN       NaN      NaN   \n",
            "7003        448      SS Mundhe          51      NaN       NaN      0.0   \n",
            "\n",
            "      Runs_Conceded  \n",
            "0              16.0  \n",
            "1              24.0  \n",
            "2              24.0  \n",
            "3              27.0  \n",
            "4              44.0  \n",
            "...             ...  \n",
            "6999           34.0  \n",
            "7000           19.0  \n",
            "7001            NaN  \n",
            "7002            NaN  \n",
            "7003            5.0  \n",
            "\n",
            "[7004 rows x 7 columns]\n"
          ]
        }
      ]
    }
  ]
}