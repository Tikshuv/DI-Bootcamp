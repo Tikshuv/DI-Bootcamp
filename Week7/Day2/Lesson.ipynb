{
 "cells": [
  {
   "cell_type": "code",
   "id": "initial_id",
   "metadata": {
    "collapsed": true,
    "ExecuteTime": {
     "end_time": "2024-12-16T10:20:05.762803Z",
     "start_time": "2024-12-16T10:20:05.222704Z"
    }
   },
   "source": [
    "from selenium import webdriver\n",
    "from selenium.webdriver.common.keys import Keys\n",
    "from selenium.webdriver.common.by import By\n",
    "from selenium.webdriver.support.ui import WebDriverWait\n",
    "from selenium.webdriver.support import expected_conditions as EC\n",
    "import time\n",
    "import pprint  # To tidy up\n",
    "\n",
    "options = webdriver.ChromeOptions()\n",
    "options.add_argument('--headless')  # Run Chrome in headless mode\n",
    "options.add_argument(\"--no-sandbox\")  # Bypass OS security model\n",
    "options.add_argument(\"--disable-dev-shm-usage\")  # Overcome limited resource problems\n",
    "driver = webdriver.Chrome(options=options)"
   ],
   "outputs": [],
   "execution_count": 57
  },
  {
   "metadata": {
    "ExecuteTime": {
     "end_time": "2024-12-16T10:20:08.883589Z",
     "start_time": "2024-12-16T10:20:07.469237Z"
    }
   },
   "cell_type": "code",
   "source": [
    "url = \"https://blog.hubspot.com/website/website-pop-up-examples\"\n",
    "driver.get(url)"
   ],
   "id": "d9e0eb1ceb662c7e",
   "outputs": [],
   "execution_count": 58
  },
  {
   "metadata": {
    "ExecuteTime": {
     "end_time": "2024-12-16T10:20:09.250037Z",
     "start_time": "2024-12-16T10:20:09.248270Z"
    }
   },
   "cell_type": "code",
   "source": "wait = WebDriverWait(driver, 10)",
   "id": "e161730ce1198a1a",
   "outputs": [],
   "execution_count": 59
  },
  {
   "metadata": {
    "ExecuteTime": {
     "end_time": "2024-12-16T10:20:21.188495Z",
     "start_time": "2024-12-16T10:20:10.824996Z"
    }
   },
   "cell_type": "code",
   "source": [
    "try:\n",
    "    cookie_close_button = wait.until(\n",
    "        EC.element_to_be_clickable((By.CSS_SELECTOR, '[aria-labelledby=\"hs-eu-cookie-close-button\"]'))\n",
    "    ).click()\n",
    "    print(\"Cookie close button clicked.\")\n",
    "    mail_close_button = wait.until(\n",
    "        EC.element_to_be_clickable((By.CSS_SELECTOR, '[class=\"blog-exit-intent-header-close cl-close\"]'))\n",
    "    )\n",
    "    mail_close_button.click()\n",
    "    print(\"Mail close button clicked.\")\n",
    "\n",
    "except Exception as e:\n",
    "    print(f\"An error occurred: {e}\")\n",
    "\n",
    "driver.quit()"
   ],
   "id": "493cbe5576a2aa10",
   "outputs": [
    {
     "name": "stdout",
     "output_type": "stream",
     "text": [
      "Cookie close button clicked.\n",
      "An error occurred: Message: \n",
      "\n"
     ]
    }
   ],
   "execution_count": 60
  },
  {
   "metadata": {},
   "cell_type": "code",
   "outputs": [],
   "execution_count": null,
   "source": "content =",
   "id": "60a0483d0a651232"
  }
 ],
 "metadata": {
  "kernelspec": {
   "display_name": "Python 3",
   "language": "python",
   "name": "python3"
  },
  "language_info": {
   "codemirror_mode": {
    "name": "ipython",
    "version": 2
   },
   "file_extension": ".py",
   "mimetype": "text/x-python",
   "name": "python",
   "nbconvert_exporter": "python",
   "pygments_lexer": "ipython2",
   "version": "2.7.6"
  }
 },
 "nbformat": 4,
 "nbformat_minor": 5
}
