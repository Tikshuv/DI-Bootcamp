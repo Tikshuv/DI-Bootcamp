{
  "nbformat": 4,
  "nbformat_minor": 0,
  "metadata": {
    "colab": {
      "provenance": []
    },
    "kernelspec": {
      "name": "python3",
      "display_name": "Python 3"
    },
    "language_info": {
      "name": "python"
    }
  },
  "cells": [
    {
      "cell_type": "markdown",
      "source": [
        "\n",
        "🌟 Exercise 1 : Basic Usage of SciPy\n",
        "Instructions\n",
        "\n",
        "Import the SciPy library and explore its version.\n",
        "\n",
        "\n"
      ],
      "metadata": {
        "id": "s4V8jZiGnOj9"
      }
    },
    {
      "cell_type": "code",
      "source": [
        "import scipy\n",
        "scipy.__version__"
      ],
      "metadata": {
        "colab": {
          "base_uri": "https://localhost:8080/",
          "height": 35
        },
        "id": "sJA7y-Z_ncwT",
        "outputId": "7cb67990-a9d9-4bb0-98f5-f026fc614215"
      },
      "execution_count": null,
      "outputs": [
        {
          "output_type": "execute_result",
          "data": {
            "text/plain": [
              "'1.13.1'"
            ],
            "application/vnd.google.colaboratory.intrinsic+json": {
              "type": "string"
            }
          },
          "metadata": {},
          "execution_count": 1
        }
      ]
    },
    {
      "cell_type": "markdown",
      "source": [
        "🌟 Exercise 2 : Descriptive Statistics\n",
        "Instructions\n",
        "\n",
        "    Given a sample dataset, calculate the mean, median, variance, and standard deviation using SciPy.\n",
        "    Sample dataset in code:\n",
        "\n",
        "\n",
        "data = [12, 15, 13, 12, 18, 20, 22, 21]\n",
        "\n",
        "\n"
      ],
      "metadata": {
        "id": "Y8gZQ7jfnW53"
      }
    },
    {
      "cell_type": "code",
      "source": [
        "from scipy import stats\n",
        "import numpy as np\n",
        "\n",
        "data = [12, 15, 13, 12, 18, 20, 22, 21]\n",
        "\n",
        "# Calculate mean\n",
        "mean = stats.tmean(data)\n",
        "print(f\"Mean: {mean}\")\n",
        "\n",
        "# Calculate median\n",
        "median = np.median(data)\n",
        "print(f\"Median: {median}\")\n",
        "\n",
        "# Calculate variance\n",
        "variance = stats.tvar(data)\n",
        "print(f\"Variance: {variance}\")\n",
        "\n",
        "# Calculate standard deviation\n",
        "std_dev = stats.tstd(data)\n",
        "print(f\"Standard Deviation: {std_dev}\")"
      ],
      "metadata": {
        "colab": {
          "base_uri": "https://localhost:8080/"
        },
        "id": "8-_O4sx5njCq",
        "outputId": "f3409b20-e8e4-427a-d62b-3e08c2f76637"
      },
      "execution_count": null,
      "outputs": [
        {
          "output_type": "stream",
          "name": "stdout",
          "text": [
            "Mean: 16.625\n",
            "Median: 16.5\n",
            "Variance: 17.125\n",
            "Standard Deviation: 4.138236339311712\n"
          ]
        }
      ]
    },
    {
      "cell_type": "markdown",
      "source": [
        "🌟 Exercise 3 : Understanding Distributions\n",
        "Instructions\n",
        "\n",
        "Generate a normal distribution using SciPy with a mean of 50 and a standard deviation of 10. Plot this distribution.\n",
        "\n",
        "\n",
        "\n"
      ],
      "metadata": {
        "id": "_R11lNFGnYcR"
      }
    },
    {
      "cell_type": "code",
      "source": [
        "import matplotlib.pyplot as plt\n",
        "from scipy.stats import norm\n",
        "n_dist = norm.rvs(loc = 50, scale = 10, size = 1000)\n",
        "plt.hist(n_dist, bins = 30)\n",
        "plt.show()"
      ],
      "metadata": {
        "colab": {
          "base_uri": "https://localhost:8080/",
          "height": 430
        },
        "id": "YlmNtvgAoKHE",
        "outputId": "1c329a24-3ebb-4113-ed04-68dc961797e3"
      },
      "execution_count": null,
      "outputs": [
        {
          "output_type": "display_data",
          "data": {
            "text/plain": [
              "<Figure size 640x480 with 1 Axes>"
            ],
            "image/png": "[encoded data removed]"
          },
          "metadata": {}
        }
      ]
    },
    {
      "cell_type": "markdown",
      "source": [
        "🌟 Exercise 4 : T-Test Application\n",
        "Instructions\n",
        "\n",
        "Perform a T-test on two sets of randomly generated data. Hint: Use numpy.random.normal() to generate the datasets.\n",
        "\n",
        "\n"
      ],
      "metadata": {
        "id": "NGmKgI8dnZpK"
      }
    },
    {
      "cell_type": "code",
      "source": [
        "data1 = np.random.normal(loc = 50, scale = 10, size = 1000)\n",
        "data2 = np.random.normal(loc = 37, scale = 21, size = 1000)\n",
        "\n",
        "from scipy.stats import ttest_ind\n",
        "t,p = ttest_ind(data1, data2)\n",
        "print(f\"T-statistic: {t}\")\n",
        "print(f\"P-value: {p}\")"
      ],
      "metadata": {
        "colab": {
          "base_uri": "https://localhost:8080/"
        },
        "id": "Pp0CPUf9tRJJ",
        "outputId": "66bbfa2f-7973-4a56-ded5-ff7717577144"
      },
      "execution_count": null,
      "outputs": [
        {
          "output_type": "stream",
          "name": "stdout",
          "text": [
            "T-statistic: 19.116483984674986\n",
            "P-value: 6.020490781579965e-75\n"
          ]
        }
      ]
    },
    {
      "cell_type": "markdown",
      "source": [
        "🌟 Exercise 5 : Working with DataFrames\n",
        "Instructions\n",
        "\n",
        "Task: Import a dataset using Pandas and calculate descriptive statistics for a specific column using SciPy.\n",
        "\n",
        "Sample Dataset: Use any publicly available dataset (e.g., Iris dataset).\n",
        "\n",
        "Code Example:\n",
        "\n",
        "\n",
        "import pandas as pd\n",
        "\n",
        "df = pd.read_csv('path_to_iris_dataset.csv')\n",
        "\n",
        "# complete your code here\n",
        "\n",
        "\n"
      ],
      "metadata": {
        "id": "ak2rvrwUna85"
      }
    },
    {
      "cell_type": "code",
      "source": [
        "import pandas as pd\n",
        "df = pd.read_csv('/content/Iris.csv')\n",
        "df.info()"
      ],
      "metadata": {
        "id": "B4UHyVtDtuJk",
        "colab": {
          "base_uri": "https://localhost:8080/"
        },
        "outputId": "2ae872fd-7e48-4c0e-f98d-a5016757faa7"
      },
      "execution_count": null,
      "outputs": [
        {
          "output_type": "stream",
          "name": "stdout",
          "text": [
            "<class 'pandas.core.frame.DataFrame'>\n",
            "RangeIndex: 150 entries, 0 to 149\n",
            "Data columns (total 6 columns):\n",
            " #   Column         Non-Null Count  Dtype  \n",
            "---  ------         --------------  -----  \n",
            " 0   Id             150 non-null    int64  \n",
            " 1   SepalLengthCm  150 non-null    float64\n",
            " 2   SepalWidthCm   150 non-null    float64\n",
            " 3   PetalLengthCm  150 non-null    float64\n",
            " 4   PetalWidthCm   150 non-null    float64\n",
            " 5   Species        150 non-null    object \n",
            "dtypes: float64(4), int64(1), object(1)\n",
            "memory usage: 7.2+ KB\n"
          ]
        }
      ]
    },
    {
      "cell_type": "code",
      "source": [
        "import seaborn as sns\n",
        "data = df['PetalLengthCm']\n",
        "\n",
        "mean = stats.tmean(data)\n",
        "std_dev = stats.tstd(data)\n",
        "variance = stats.tvar(data)\n",
        "skewness = stats.skew(data)\n",
        "kurtosis = stats.kurtosis(data)\n",
        "\n",
        "print(f\"Mean: {mean}\")\n",
        "print(f\"Standard Deviation: {std_dev}\")\n",
        "print(f\"Variance: {variance}\")\n",
        "print(f\"Skewness: {skewness}\")\n",
        "print(f\"Kurtosis: {kurtosis}\")\n",
        "\n",
        "sns.histplot(data, bins = 10, kde = True)\n"
      ],
      "metadata": {
        "colab": {
          "base_uri": "https://localhost:8080/",
          "height": 556
        },
        "id": "1rGJGaQ17jQq",
        "outputId": "5e498ff1-05f5-4f4c-cb25-aa31715dfa00"
      },
      "execution_count": null,
      "outputs": [
        {
          "output_type": "stream",
          "name": "stdout",
          "text": [
            "Mean: 3.758666666666666\n",
            "Standard Deviation: 1.7644204199522626\n",
            "Variance: 3.113179418344519\n",
            "Skewness: -0.2717119501716388\n",
            "Kurtosis: -1.3953593021397128\n"
          ]
        },
        {
          "output_type": "execute_result",
          "data": {
            "text/plain": [
              "<Axes: xlabel='PetalLengthCm', ylabel='Count'>"
            ]
          },
          "metadata": {},
          "execution_count": 22
        },
        {
          "output_type": "display_data",
          "data": {
            "text/plain": [
              "<Figure size 640x480 with 1 Axes>"
            ],
            "image/png": "[encoded data removed]"
          },
          "metadata": {}
        }
      ]
    },
    {
      "cell_type": "markdown",
      "source": [
        "🌟 Exercise 6 : Advanced Statistical Functions\n",
        "Instructions\n",
        "\n",
        "Task: Explore one advanced statistical function in SciPy and demonstrate its use with an example.\n",
        "\n",
        "Sample Task: Calculate kurtosis and skewness of a dataset.\n",
        "\n",
        "Code Example:\n",
        "\n",
        "\n",
        "data = np.random.normal(0, 1, 1000)\n",
        "\n",
        "# complete your code here"
      ],
      "metadata": {
        "id": "iWJvSl_fnbx7"
      }
    },
    {
      "cell_type": "code",
      "source": [
        "data = np.random.normal(0,1,1000)\n",
        "kurtosis = stats.kurtosis(data)\n",
        "skewness = stats.skew(data)\n",
        "print(f\"Kurtosis: {kurtosis}\")\n",
        "print(f\"Skewness: {skewness}\")\n",
        "\n",
        "sns.histplot(data, bins = 10, kde = True)\n"
      ],
      "metadata": {
        "colab": {
          "base_uri": "https://localhost:8080/",
          "height": 484
        },
        "id": "Gw23TSJs7zbB",
        "outputId": "99f40039-024d-4d1e-bdd3-4623e073e10c"
      },
      "execution_count": null,
      "outputs": [
        {
          "output_type": "stream",
          "name": "stdout",
          "text": [
            "Kurtosis: -0.1975934883021493\n",
            "Skewness: 0.07691217686055925\n"
          ]
        },
        {
          "output_type": "execute_result",
          "data": {
            "text/plain": [
              "<Axes: ylabel='Count'>"
            ]
          },
          "metadata": {},
          "execution_count": 23
        },
        {
          "output_type": "display_data",
          "data": {
            "text/plain": [
              "<Figure size 640x480 with 1 Axes>"
            ],
            "image/png": "[encoded data removed]"
          },
          "metadata": {}
        }
      ]
    }
  ]
}