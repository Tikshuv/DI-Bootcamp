{
  "cells": [
    {
      "cell_type": "markdown",
      "source": [
        "🌟 Exercise 1 : Matrix Operations\n",
        "Instructions\n",
        "In this exercise, you’ll work with a 3x3 matrix. Here’s a brief explanation of the concepts:\n",
        "\n",
        "Determinant: The determinant is a value that can be computed from the elements of a square matrix. It provides important information about the matrix, such as whether it has an inverse, and is used in various areas like linear algebra and calculus. To understand more about it you can watch this video.\n",
        "Inverse of a Matrix: The inverse of a matrix is a matrix that, when multiplied with the original matrix, results in an identity matrix. Not all matrices have inverses. The inverse is crucial in solving systems of linear equations.\n",
        "Create a 3x3 matrix and perform the following operations:\n",
        "\n",
        "Calculate the determinant.\n",
        "Find the inverse of the matrix."
      ],
      "metadata": {
        "id": "9rU5FsRvBJbR"
      }
    },
    {
      "cell_type": "code",
      "source": [
        "import numpy as np\n",
        "matrix = np.array([[1, 2, 3], [4, 5, 6], [7, 8, 9]])\n",
        "determinant = np.linalg.det(matrix)\n",
        "print(determinant)\n",
        "print(matrix)"
      ],
      "metadata": {
        "colab": {
          "base_uri": "https://localhost:8080/"
        },
        "id": "msBVVvtRBJwm",
        "outputId": "778e1dcd-8a15-4e06-e437-5dd7ba5e2a5f"
      },
      "execution_count": null,
      "outputs": [
        {
          "output_type": "stream",
          "name": "stdout",
          "text": [
            "0.0\n",
            "[[1 2 3]\n",
            " [4 5 6]\n",
            " [7 8 9]]\n"
          ]
        }
      ]
    },
    {
      "cell_type": "markdown",
      "source": [
        "1*(45-48) - 2*(36-42) + 3*(32-35) = -3 + 12 - 9 = 0, yeah seems legit"
      ],
      "metadata": {
        "id": "6OiOCtk4IUq_"
      }
    },
    {
      "cell_type": "code",
      "source": [
        "np.random.seed(42)\n",
        "for i in range(3):\n",
        "  for j in range(3):\n",
        "    matrix[i][j] = np.random.randint(1, 10)\n",
        "print(matrix)"
      ],
      "metadata": {
        "colab": {
          "base_uri": "https://localhost:8080/"
        },
        "id": "KKSuZsdjIxBC",
        "outputId": "4c0079fc-99b9-4fa7-ae3d-af09c45cda46"
      },
      "execution_count": null,
      "outputs": [
        {
          "output_type": "stream",
          "name": "stdout",
          "text": [
            "[[7 4 8]\n",
            " [5 7 3]\n",
            " [7 8 5]]\n"
          ]
        }
      ]
    },
    {
      "cell_type": "code",
      "source": [
        "determinant = np.linalg.det(matrix)\n",
        "print(determinant)"
      ],
      "metadata": {
        "colab": {
          "base_uri": "https://localhost:8080/"
        },
        "id": "RhWE8EXHJBwC",
        "outputId": "e7d52bfa-fa6d-4ffc-88e5-5f0d9163eaed"
      },
      "execution_count": null,
      "outputs": [
        {
          "output_type": "stream",
          "name": "stdout",
          "text": [
            "-11.00000000000003\n"
          ]
        }
      ]
    },
    {
      "cell_type": "code",
      "source": [
        "print(matrix)"
      ],
      "metadata": {
        "colab": {
          "base_uri": "https://localhost:8080/"
        },
        "id": "IFSG6VH1JifA",
        "outputId": "00cdbef2-07b7-446b-e755-00be23785a68"
      },
      "execution_count": null,
      "outputs": [
        {
          "output_type": "stream",
          "name": "stdout",
          "text": [
            "[[7 4 8]\n",
            " [5 7 3]\n",
            " [7 8 5]]\n"
          ]
        }
      ]
    },
    {
      "cell_type": "code",
      "source": [
        "# now for the inverse\n",
        "inverse = np.linalg.inv(matrix)\n",
        "print(inverse)"
      ],
      "metadata": {
        "colab": {
          "base_uri": "https://localhost:8080/"
        },
        "id": "rYihrWtwJJb3",
        "outputId": "a6a6daa4-28d2-4afb-8d33-1f68fce9fa42"
      },
      "execution_count": null,
      "outputs": [
        {
          "output_type": "stream",
          "name": "stdout",
          "text": [
            "[[-1.         -4.          4.        ]\n",
            " [ 0.36363636  1.90909091 -1.72727273]\n",
            " [ 0.81818182  2.54545455 -2.63636364]]\n"
          ]
        }
      ]
    },
    {
      "cell_type": "code",
      "source": [
        "identity_matrix = np.dot(matrix, inverse)\n",
        "identity_matrix_int = np.round(np.abs(identity_matrix)).astype(int)\n",
        "# first of all rounding values as instead of plain 0 we got values that aproach zero and it's hard to read\n",
        "# also we need absolute value to not look at negative zeroes\n",
        "print(identity_matrix_int)"
      ],
      "metadata": {
        "colab": {
          "base_uri": "https://localhost:8080/"
        },
        "id": "eRj8QoGcJRgW",
        "outputId": "9fdce9d8-8e40-4588-f3e4-415258d50222"
      },
      "execution_count": null,
      "outputs": [
        {
          "output_type": "stream",
          "name": "stdout",
          "text": [
            "[[1 0 0]\n",
            " [0 1 0]\n",
            " [0 0 1]]\n"
          ]
        }
      ]
    },
    {
      "cell_type": "markdown",
      "source": [
        " Exercise 2 : Statistical Analysis\n",
        "Instructions\n",
        "In this exercise, you’ll calculate statistical measures for a dataset:\n",
        "\n",
        "Mean: The average value of a dataset.\n",
        "Median: The middle value in a dataset when it is arranged in ascending or descending order.\n",
        "Standard Deviation: A measure of the amount of variation or dispersion in a set of values.\n",
        "Using NumPy, generate an array of 50 random numbers and compute:\n",
        "\n",
        "The mean and median.\n",
        "The standard deviation."
      ],
      "metadata": {
        "id": "VXqf5leQLmtg"
      }
    },
    {
      "cell_type": "code",
      "source": [
        "ar = np.random.randint(1, 100, 50)\n",
        "print(ar)"
      ],
      "metadata": {
        "colab": {
          "base_uri": "https://localhost:8080/"
        },
        "id": "TdiV2OQXMK5d",
        "outputId": "e764ecf5-f7d3-43ed-9ed8-17742aaa59c3"
      },
      "execution_count": null,
      "outputs": [
        {
          "output_type": "stream",
          "name": "stdout",
          "text": [
            "[24  3 22 53  2 88 30 38  2 64 60 21 33 76 58 22 89 49 91 59 42 92 60 80\n",
            " 15 62 62 47 62 51 55 64  3 51  7 21 73 39 18  4 89 60 14  9 90 53  2 84\n",
            " 92 60]\n"
          ]
        }
      ]
    },
    {
      "cell_type": "code",
      "source": [
        "ar_mean = np.mean(ar)\n",
        "ar_median = np.median(ar)\n",
        "ar_std = np.std(ar)\n",
        "print(ar_mean)\n",
        "print(ar_median)\n",
        "print(ar_std)"
      ],
      "metadata": {
        "colab": {
          "base_uri": "https://localhost:8080/"
        },
        "id": "Sp7o-U0jMyWU",
        "outputId": "95fa7cf0-b783-488b-ab35-48758bf6f498"
      },
      "execution_count": null,
      "outputs": [
        {
          "output_type": "stream",
          "name": "stdout",
          "text": [
            "46.9\n",
            "52.0\n",
            "28.62324230411363\n"
          ]
        }
      ]
    },
    {
      "cell_type": "markdown",
      "source": [
        "Exercise 3 : Date Manipulation\n",
        "Instructions\n",
        "Create a NumPy array of dates for the month of January 2023. Convert these dates to another format (e.g., YYYY/MM/DD).\n",
        "\n"
      ],
      "metadata": {
        "id": "ewg68SJrM3DQ"
      }
    },
    {
      "cell_type": "code",
      "source": [
        "import numpy as np\n",
        "import pandas as pd\n",
        "\n",
        "start_date = np.datetime64('2023-01-01')\n",
        "end_date = np.datetime64('2023-01-30')\n",
        "date_array = np.arange(start_date, end_date + np.timedelta64(1, 'D'), dtype='datetime64[D]')\n",
        "\n",
        "print(date_array)\n",
        "\n",
        "date_strings = np.datetime_as_string(date_array, unit='D', timezone='UTC')\n",
        "formatted_dates = [date.replace('-', '/') for date in date_strings]\n",
        "print(formatted_dates)"
      ],
      "metadata": {
        "colab": {
          "base_uri": "https://localhost:8080/"
        },
        "id": "2NzkanHYM45L",
        "outputId": "5fffaa32-f816-467b-a7f7-8120fadb12d7"
      },
      "execution_count": null,
      "outputs": [
        {
          "output_type": "stream",
          "name": "stdout",
          "text": [
            "['2023-01-01' '2023-01-02' '2023-01-03' '2023-01-04' '2023-01-05'\n",
            " '2023-01-06' '2023-01-07' '2023-01-08' '2023-01-09' '2023-01-10'\n",
            " '2023-01-11' '2023-01-12' '2023-01-13' '2023-01-14' '2023-01-15'\n",
            " '2023-01-16' '2023-01-17' '2023-01-18' '2023-01-19' '2023-01-20'\n",
            " '2023-01-21' '2023-01-22' '2023-01-23' '2023-01-24' '2023-01-25'\n",
            " '2023-01-26' '2023-01-27' '2023-01-28' '2023-01-29' '2023-01-30']\n",
            "['2023/01/01', '2023/01/02', '2023/01/03', '2023/01/04', '2023/01/05', '2023/01/06', '2023/01/07', '2023/01/08', '2023/01/09', '2023/01/10', '2023/01/11', '2023/01/12', '2023/01/13', '2023/01/14', '2023/01/15', '2023/01/16', '2023/01/17', '2023/01/18', '2023/01/19', '2023/01/20', '2023/01/21', '2023/01/22', '2023/01/23', '2023/01/24', '2023/01/25', '2023/01/26', '2023/01/27', '2023/01/28', '2023/01/29', '2023/01/30']\n"
          ]
        }
      ]
    },
    {
      "cell_type": "markdown",
      "source": [
        " Exercise 4 : Data Manipulation with NumPy and Pandas\n",
        "Instructions\n",
        "Create a DataFrame with random numbers and perform:\n",
        "\n",
        "Conditional selection of data.\n",
        "Aggregation functions like sum and average."
      ],
      "metadata": {
        "id": "uqc1KrcUPrx-"
      }
    },
    {
      "cell_type": "code",
      "source": [
        "random_data = np.random.randint(1, 100, size=(5, 5))\n",
        "df = pd.DataFrame(random_data, columns=['A', 'B', 'C', 'D', 'E'])\n",
        "print(\"DataFrame with random numbers:\")\n",
        "print(df)\n",
        "\n",
        "condition = df['A'] > 50\n",
        "filtered_data = df[condition]\n",
        "\n",
        "print(\"\\nRows where column 'A' is greater than 50:\")\n",
        "print(filtered_data)\n",
        "\n",
        "column_sum = df.sum()\n",
        "column_avg = df.mean()\n",
        "\n",
        "print(\"\\nSum of each column:\")\n",
        "print(column_sum)\n",
        "\n",
        "print(\"\\nAverage of each column:\")\n",
        "print(column_avg)\n"
      ],
      "metadata": {
        "colab": {
          "base_uri": "https://localhost:8080/"
        },
        "id": "Rd8thjvePu9O",
        "outputId": "92101a2e-ab0f-473e-c344-84e2bab3b962"
      },
      "execution_count": null,
      "outputs": [
        {
          "output_type": "stream",
          "name": "stdout",
          "text": [
            "DataFrame with random numbers:\n",
            "    A   B   C   D   E\n",
            "0  71  44   8  47  35\n",
            "1  78  81  36  50   4\n",
            "2   2   6  54   4  54\n",
            "3  93  63  18  90  44\n",
            "4  34  74  62  14  95\n",
            "\n",
            "Rows where column 'A' is greater than 50:\n",
            "    A   B   C   D   E\n",
            "0  71  44   8  47  35\n",
            "1  78  81  36  50   4\n",
            "3  93  63  18  90  44\n",
            "\n",
            "Sum of each column:\n",
            "A    278\n",
            "B    268\n",
            "C    178\n",
            "D    205\n",
            "E    232\n",
            "dtype: int64\n",
            "\n",
            "Average of each column:\n",
            "A    55.6\n",
            "B    53.6\n",
            "C    35.6\n",
            "D    41.0\n",
            "E    46.4\n",
            "dtype: float64\n"
          ]
        }
      ]
    },
    {
      "cell_type": "markdown",
      "source": [
        "🌟 Exercise 5 : Image Representation\n",
        "Instructions\n",
        "Explain how images are represented in NumPy arrays and demonstrate with a simple example (e.g., creating a 5x5 grayscale image)."
      ],
      "metadata": {
        "id": "5CiNmHf2RFT9"
      }
    },
    {
      "cell_type": "code",
      "source": [
        "# images are basically a matrix where each element represents each pixel via RGB list\n",
        "# each element of a list being a value from 0 to 256 representing \"amount\" of each color\n",
        "# but for grayscale we use just one value for each pixel representing \"brightness\"\n",
        "import matplotlib.pyplot as plt\n",
        "grayscale_image = np.random.randint(0, 256, size=(5, 5), dtype=np.uint8)\n",
        "plt.imshow(grayscale_image, cmap='gray', interpolation='nearest')\n",
        "plt.axis('off')\n",
        "plt.show()\n",
        "print(\"Grayscale Image Array:\")\n",
        "print(grayscale_image)\n"
      ],
      "metadata": {
        "colab": {
          "base_uri": "https://localhost:8080/",
          "height": 513
        },
        "id": "NLbFdW5nRHgn",
        "outputId": "fa2c0d5f-4e04-4cf8-ae0c-2ac591765020"
      },
      "execution_count": null,
      "outputs": [
        {
          "output_type": "display_data",
          "data": {
            "text/plain": [
              "<Figure size 640x480 with 1 Axes>"
            ],
            "image/png": "[encoded data removed]"
          },
          "metadata": {}
        },
        {
          "output_type": "stream",
          "name": "stdout",
          "text": [
            "Grayscale Image Array:\n",
            "[[249 251 172 166  40]\n",
            " [152 169  29  27 204]\n",
            " [ 58 234 134  88 244]\n",
            " [220 200  32 156 217]\n",
            " [ 71 119 144 159  11]]\n"
          ]
        }
      ]
    },
    {
      "cell_type": "markdown",
      "source": [
        "🌟 Exercise 6 : Basic Hypothesis Testing\n",
        "Instructions\n",
        "Create a sample dataset to test the effectiveness of a new training program on employee productivity:\n",
        "\n"
      ],
      "metadata": {
        "id": "FSexx8zOSaDR"
      }
    },
    {
      "cell_type": "code",
      "source": [
        "import numpy as np\n",
        "from scipy import stats\n",
        "np.random.seed(42)\n",
        "\n",
        "# Productivity scores of employees before the training program\n",
        "productivity_before = np.random.normal(loc=50, scale=10, size=30)\n",
        "\n",
        "# Productivity scores of the same employees after the training program\n",
        "productivity_after = productivity_before + np.random.normal(loc=5, scale=3, size=30)\n",
        "\n",
        "productivity_difference = productivity_after - productivity_before\n",
        "\n",
        "t_stat, p_value = stats.ttest_1samp(productivity_difference, 0)\n",
        "alpha = 0.05\n",
        "p_value_one_tailed = p_value / 2\n",
        "\n",
        "if p_value_one_tailed < alpha and t_stat > 0:\n",
        "    result = \"Reject the null hypothesis: The training program is effective in increasing productivity.\"\n",
        "else:\n",
        "    result = \"Fail to reject the null hypothesis: There is no significant effect of the training program on productivity.\"\n",
        "\n",
        "print(\"T-statistic:\", t_stat)\n",
        "print(\"One-tailed p-value:\", p_value_one_tailed)\n",
        "print(result)"
      ],
      "metadata": {
        "colab": {
          "base_uri": "https://localhost:8080/"
        },
        "id": "0czsvv2WScAx",
        "outputId": "b2d66461-7f18-406d-e621-70e0fc377235"
      },
      "execution_count": null,
      "outputs": [
        {
          "output_type": "stream",
          "name": "stdout",
          "text": [
            "T-statistic: 9.091456480816795\n",
            "One-tailed p-value: 2.7355299409504694e-10\n",
            "Reject the null hypothesis: The training program is effective in increasing productivity.\n"
          ]
        }
      ]
    },
    {
      "cell_type": "markdown",
      "source": [
        " Exercise 7 : Complex Array Comparison\n",
        "Instructions\n",
        "Create two arrays and perform element-wise comparison to find which elements are greater in the first array.\n",
        "\n",
        "The expected output is a boolean array showing which elements in the first array are greater than the corresponding elements in the second array.\n",
        "\n"
      ],
      "metadata": {
        "id": "m15VYdvwmX3G"
      }
    },
    {
      "cell_type": "code",
      "source": [
        "ar1 = np.random.randint(1, 100, 10)\n",
        "ar2 = np.random.randint(1, 100, 10)\n",
        "print(ar1)\n",
        "print(ar2)\n",
        "result = ar1 > ar2\n",
        "print(result)"
      ],
      "metadata": {
        "colab": {
          "base_uri": "https://localhost:8080/"
        },
        "id": "41TARdF5mYiP",
        "outputId": "eb2cac01-fd23-45b4-e83f-58d14ad212fc"
      },
      "execution_count": null,
      "outputs": [
        {
          "output_type": "stream",
          "name": "stdout",
          "text": [
            "[34 33 48 23 62 88 37 99 44 86]\n",
            "[91 35 65 99 47 78  3  1  5 90]\n",
            "[False False False False  True  True  True  True  True False]\n"
          ]
        }
      ]
    },
    {
      "cell_type": "markdown",
      "source": [
        "Exercise 8 : Time Series Data Manipulation\n",
        "Instructions\n",
        "Generate time series data for the year 2023. Demonstrate slicing for the following intervals:\n",
        "\n",
        "January to March\n",
        "April to June\n",
        "July to September\n",
        "October to December\n",
        "Generate a time series data for a specific period and demonstrate how to slice this data for different intervals."
      ],
      "metadata": {
        "id": "1v337I32mi_C"
      }
    },
    {
      "cell_type": "code",
      "source": [
        "start_date = np.datetime64('2023-01')\n",
        "end_date = np.datetime64('2023-12')\n",
        "# Change the step to have units of 'M' (months) to match start and end dates\n",
        "# The error was caused by adding np.timedelta64(1, 'M') to end_date, which has units of 'D'.\n",
        "# Instead, we change the dtype of end_date to 'datetime64[M]' to ensure consistency.\n",
        "year = np.arange(start_date, end_date + np.timedelta64(1, 'M'), dtype='datetime64[M]')\n",
        "print(year)"
      ],
      "metadata": {
        "colab": {
          "base_uri": "https://localhost:8080/"
        },
        "id": "WqKCFkEOrc0a",
        "outputId": "ac1f22d7-8168-4232-81d0-ffea6464213f"
      },
      "execution_count": null,
      "outputs": [
        {
          "output_type": "stream",
          "name": "stdout",
          "text": [
            "['2023-01' '2023-02' '2023-03' '2023-04' '2023-05' '2023-06' '2023-07'\n",
            " '2023-08' '2023-09' '2023-10' '2023-11' '2023-12']\n"
          ]
        }
      ]
    },
    {
      "cell_type": "code",
      "source": [
        "print('January to March')\n",
        "print(year[:3])\n",
        "print('April to June')\n",
        "print(year[3:6])\n",
        "print('July to September')\n",
        "print(year[6:9])\n",
        "print('October to December')\n",
        "print(year[9:])"
      ],
      "metadata": {
        "colab": {
          "base_uri": "https://localhost:8080/"
        },
        "id": "dLQrY6gBrh9r",
        "outputId": "c8b5f8be-6e3e-47b3-dc11-b4b8dde4734d"
      },
      "execution_count": null,
      "outputs": [
        {
          "output_type": "stream",
          "name": "stdout",
          "text": [
            "January to March\n",
            "['2023-01' '2023-02' '2023-03']\n",
            "April to June\n",
            "['2023-04' '2023-05' '2023-06']\n",
            "July to September\n",
            "['2023-07' '2023-08' '2023-09']\n",
            "October to December\n",
            "['2023-10' '2023-11' '2023-12']\n"
          ]
        }
      ]
    },
    {
      "cell_type": "code",
      "source": [
        "sales_by_month = np.random.randint(1000, 5000, size=12)\n",
        "print(sales_by_month)\n",
        "df = pd.DataFrame({'Month': year, 'Sales': sales_by_month})\n",
        "print(df)"
      ],
      "metadata": {
        "colab": {
          "base_uri": "https://localhost:8080/"
        },
        "id": "hE40CDJJrowE",
        "outputId": "64e0b360-3321-4763-c0af-61c7dd066008"
      },
      "execution_count": null,
      "outputs": [
        {
          "output_type": "stream",
          "name": "stdout",
          "text": [
            "[4762 4646 1863 3790 4312 1563 2020 1095 2923 2757 3532 4478]\n",
            "        Month  Sales\n",
            "0  2023-01-01   4762\n",
            "1  2023-02-01   4646\n",
            "2  2023-03-01   1863\n",
            "3  2023-04-01   3790\n",
            "4  2023-05-01   4312\n",
            "5  2023-06-01   1563\n",
            "6  2023-07-01   2020\n",
            "7  2023-08-01   1095\n",
            "8  2023-09-01   2923\n",
            "9  2023-10-01   2757\n",
            "10 2023-11-01   3532\n",
            "11 2023-12-01   4478\n"
          ]
        }
      ]
    },
    {
      "cell_type": "code",
      "source": [
        "df_january_to_march = df[df['Month'].dt.month.isin([1, 2, 3])]\n",
        "print(df_january_to_march)\n",
        "df_april_to_june = df[df['Month'].dt.month.isin([4, 5, 6])]\n",
        "print(df_april_to_june)"
      ],
      "metadata": {
        "colab": {
          "base_uri": "https://localhost:8080/"
        },
        "id": "8Ht4w_Hcs19m",
        "outputId": "2db4c3e4-dcad-4bb1-c973-34fc49c08a58"
      },
      "execution_count": null,
      "outputs": [
        {
          "output_type": "stream",
          "name": "stdout",
          "text": [
            "       Month  Sales\n",
            "0 2023-01-01   4762\n",
            "1 2023-02-01   4646\n",
            "2 2023-03-01   1863\n",
            "       Month  Sales\n",
            "3 2023-04-01   3790\n",
            "4 2023-05-01   4312\n",
            "5 2023-06-01   1563\n"
          ]
        }
      ]
    },
    {
      "cell_type": "markdown",
      "source": [
        "\n",
        "🌟 Exercise 9 : Data Conversion\n",
        "Instructions\n",
        "Demonstrate how to convert a NumPy array to a Pandas DataFrame and vice versa."
      ],
      "metadata": {
        "id": "DryX6fdHtSqO"
      }
    },
    {
      "cell_type": "code",
      "source": [
        "customers = np.array(['Alice', 'Bob', 'Charlie', 'David', 'Eve'])\n",
        "ages = np.array([25, 30, 35, 40, 45])\n",
        "df = pd.DataFrame({'Customer': customers, 'Age': ages})\n",
        "print(df)\n",
        "ar_customers, ar_sales = df['Customer'].values, df['Age'].values\n",
        "print(ar_customers)\n",
        "print(ar_sales)"
      ],
      "metadata": {
        "colab": {
          "base_uri": "https://localhost:8080/"
        },
        "id": "CrfGrg41tU7n",
        "outputId": "e166d7e3-6857-46d8-80d2-1b14982909c7"
      },
      "execution_count": null,
      "outputs": [
        {
          "output_type": "stream",
          "name": "stdout",
          "text": [
            "  Customer  Age\n",
            "0    Alice   25\n",
            "1      Bob   30\n",
            "2  Charlie   35\n",
            "3    David   40\n",
            "4      Eve   45\n",
            "['Alice' 'Bob' 'Charlie' 'David' 'Eve']\n",
            "[25 30 35 40 45]\n"
          ]
        }
      ]
    },
    {
      "cell_type": "markdown",
      "source": [
        "🌟 Exercise 10 : Basic Visualization\n",
        "Instructions\n",
        "Use Matplotlib to visualize a simple dataset created with NumPy (e.g., a line graph of random numbers)."
      ],
      "metadata": {
        "id": "XBv8JkgktdhS"
      }
    },
    {
      "cell_type": "code",
      "source": [
        "import matplotlib.pyplot as plt\n",
        "fig = plt.figure(figsize=(8, 6))\n",
        "ar_sales = np.random.randint(1, 100, 10)\n",
        "plt.plot(ar_sales)\n",
        "plt.title('Line Graph of Random Numbers')\n",
        "plt.xlabel('Index')\n",
        "plt.ylabel('Value')\n",
        "plt.grid(True)\n",
        "plt.show()"
      ],
      "metadata": {
        "colab": {
          "base_uri": "https://localhost:8080/",
          "height": 564
        },
        "id": "qH_f5So3tfve",
        "outputId": "42c67837-a3f5-4b1f-b964-69853f5dcb06"
      },
      "execution_count": null,
      "outputs": [
        {
          "output_type": "display_data",
          "data": {
            "text/plain": [
              "<Figure size 800x600 with 1 Axes>"
            ],
            "image/png": "[encoded data removed]"
          },
          "metadata": {}
        }
      ]
    }
  ],
  "metadata": {
    "colab": {
      "provenance": []
    },
    "kernelspec": {
      "display_name": "Python 3",
      "name": "python3"
    },
    "language_info": {
      "name": "python"
    }
  },
  "nbformat": 4,
  "nbformat_minor": 0
}