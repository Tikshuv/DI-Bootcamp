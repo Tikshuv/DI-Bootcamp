{
  "nbformat": 4,
  "nbformat_minor": 0,
  "metadata": {
    "colab": {
      "provenance": []
    },
    "kernelspec": {
      "name": "python3",
      "display_name": "Python 3"
    },
    "language_info": {
      "name": "python"
    }
  },
  "cells": [
    {
      "cell_type": "markdown",
      "source": [
        "Calculate the Required Sample Size:\n",
        "Imagine the current checkout process has a conversion rate of 5%, and the bakery’s team is confident the new process will boost this to 7%.\n",
        "Use Python to calculate the required sample size per group (current vs. new checkout process) with an effect size of 0.2, a significance level of 0.05, and a desired power of 0.8.\n",
        "\n",
        "Analyze the Impact of Effect Size:\n",
        "\n",
        "The bakery’s head chef, always aiming for perfection, wonders what would happen if the effect size were different. Calculate the required sample size for effect sizes of 0.1, 0.2, 0.3, and 0.4.\n",
        "Explain how the sample size requirements change as the effect size changes. Why does this happen?\n",
        "\n",
        "Explain the Relationship:\n",
        "\n",
        "Imagine you’re explaining this to the bakery’s team in a fun, easy-to-understand way. Why is it so important to balance effect size and sample size when planning an A/B test? Help them understand how this ensures they’re not wasting time or resources and how it helps them confidently make decisions that could increase their sweet sales.\n",
        "\n",
        "\n"
      ],
      "metadata": {
        "id": "CT6OBXbxMmJA"
      }
    },
    {
      "cell_type": "code",
      "execution_count": 14,
      "metadata": {
        "colab": {
          "base_uri": "https://localhost:8080/"
        },
        "id": "bl1Yp3p_Mi6k",
        "outputId": "5bf79629-7047-4016-c0c4-a6847ffb7336"
      },
      "outputs": [
        {
          "output_type": "stream",
          "name": "stdout",
          "text": [
            "-0.08449984251812542\n",
            "Required sample size per group (effect size 0.2): 2198\n"
          ]
        }
      ],
      "source": [
        "import statsmodels.stats.api as sm\n",
        "base_rate = 0.05\n",
        "new_rate = 0.07\n",
        "effect_size = sm.proportion_effectsize(base_rate, new_rate)\n",
        "print(effect_size)\n",
        "alpha = 0.05\n",
        "power = 0.8\n",
        "sample_size = sm.NormalIndPower().solve_power(effect_size=effect_size, power=power, alpha=alpha)\n",
        "print(f\"Required sample size per group (effect size 0.2): {int(sample_size)}\")\n",
        "\n",
        "#using normalindpower instead of TTestIndPower as it fits more in this scenario.\n",
        "#i.e as this a conversion rate with a relatively high expected sample size"
      ]
    },
    {
      "cell_type": "markdown",
      "source": [
        "since effect size is small, we'd need a high sample size(2198) to confirm the theory"
      ],
      "metadata": {
        "id": "X6q9WIpfPRIX"
      }
    },
    {
      "cell_type": "code",
      "source": [
        "effect_sizes = [0.1, 0.2, 0.3, 0.4]\n",
        "sample_sizes = []\n",
        "\n",
        "for es in effect_sizes:\n",
        "    sample_size = sm.NormalIndPower().solve_power(effect_size=es, power=power, alpha=alpha)\n",
        "    sample_sizes.append(int(sample_size))\n",
        "    print(f\"Effect size: {es}, required sample size: {int(sample_size)}\")"
      ],
      "metadata": {
        "colab": {
          "base_uri": "https://localhost:8080/"
        },
        "id": "Eomuf7tKPcF_",
        "outputId": "beca6dd7-8a56-4dc5-f2de-bcc5a1efb1f9"
      },
      "execution_count": 15,
      "outputs": [
        {
          "output_type": "stream",
          "name": "stdout",
          "text": [
            "Effect size: 0.1, required sample size: 1569\n",
            "Effect size: 0.2, required sample size: 392\n",
            "Effect size: 0.3, required sample size: 174\n",
            "Effect size: 0.4, required sample size: 98\n"
          ]
        }
      ]
    },
    {
      "cell_type": "markdown",
      "source": [
        "As opposite to the original effect size, the higher the value - the lower required sample size as it's less likely to be attributed to just normal fluctuations."
      ],
      "metadata": {
        "id": "eZeO5_W1Pf1l"
      }
    },
    {
      "cell_type": "markdown",
      "source": [
        "When creating a test with a relatively small(compared to 10% or more) effect size, often results can be just effects of random events or just a standard diviation, the lower the value - the harder it's to identify the reason behind this change. In order to not make a decision that based on an occasional accurance when trying to confirm such a theory you need a high sample size, to make sure that the reason behind enhanced conversion is the change you made, rather than some natural event"
      ],
      "metadata": {
        "id": "T9oMUae7QTpf"
      }
    }
  ]
}