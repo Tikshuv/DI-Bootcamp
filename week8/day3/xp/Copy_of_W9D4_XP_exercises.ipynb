{
  "metadata": {
    "kernelspec": {
      "language": "python",
      "display_name": "Python 3",
      "name": "python3"
    },
    "language_info": {
      "pygments_lexer": "ipython3",
      "nbconvert_exporter": "python",
      "version": "3.6.4",
      "file_extension": ".py",
      "codemirror_mode": {
        "name": "ipython",
        "version": 3
      },
      "name": "python",
      "mimetype": "text/x-python"
    },
    "kaggle": {
      "accelerator": "none",
      "dataSources": [
        {
          "sourceId": 4213024,
          "sourceType": "datasetVersion",
          "datasetId": 2479030
        }
      ],
      "dockerImageVersionId": 30235,
      "isInternetEnabled": false,
      "language": "python",
      "sourceType": "notebook",
      "isGpuEnabled": false
    },
    "colab": {
      "provenance": []
    }
  },
  "nbformat_minor": 0,
  "nbformat": 4,
  "cells": [
    {
      "cell_type": "markdown",
      "source": [
        "The AB test is a randomized experiment that is used by most large companies to evaluate the launch of new functionality. Various difficulties may arise in the analysis and conduct of the experiment. Several typical problematic cases from real life are given in this dataset and analysis."
      ],
      "metadata": {
        "id": "DeHt0ZK0kkpI"
      }
    },
    {
      "cell_type": "markdown",
      "source": [
        "### Content\n",
        "1. [Loading and processing data](#Loading)\n",
        "2. [Statistical Analysis](#Statistical)\n",
        "3. [Conclusions](#Conclusions)"
      ],
      "metadata": {
        "id": "Zm0ogtm1kkpI"
      }
    },
    {
      "cell_type": "markdown",
      "source": [
        "### Loading and processing data <a name=\"Loading\"/>"
      ],
      "metadata": {
        "id": "bn40N7ilkkpJ"
      }
    },
    {
      "cell_type": "markdown",
      "source": [
        "Let's import the necessary libraries and load the data"
      ],
      "metadata": {
        "id": "fh03NWZxkkpJ"
      }
    },
    {
      "cell_type": "code",
      "source": [
        "import numpy as np\n",
        "import pandas as pd\n",
        "from scipy.stats import mannwhitneyu\n",
        "from scipy.stats import ttest_ind\n",
        "from scipy.stats import norm\n",
        "import matplotlib.pyplot as plt\n",
        "import seaborn as sns\n",
        "from tqdm.auto import tqdm\n",
        "import seaborn as sns\n",
        "from scipy.stats import pearsonr\n",
        "from scipy.stats import shapiro"
      ],
      "metadata": {
        "execution": {
          "iopub.status.busy": "2022-09-16T18:23:22.571234Z",
          "iopub.execute_input": "2022-09-16T18:23:22.571662Z",
          "iopub.status.idle": "2022-09-16T18:23:22.579386Z",
          "shell.execute_reply.started": "2022-09-16T18:23:22.571624Z",
          "shell.execute_reply": "2022-09-16T18:23:22.577863Z"
        },
        "trusted": true,
        "id": "jKi9SDP2kkpJ"
      },
      "execution_count": 1,
      "outputs": []
    },
    {
      "cell_type": "code",
      "source": [
        "# TODO : import the dataset\n",
        "df = pd.read_csv('/content/AB_Test_Results.csv')"
      ],
      "metadata": {
        "execution": {
          "iopub.status.busy": "2022-09-16T18:23:22.582829Z",
          "iopub.execute_input": "2022-09-16T18:23:22.584216Z",
          "iopub.status.idle": "2022-09-16T18:23:22.604701Z",
          "shell.execute_reply.started": "2022-09-16T18:23:22.584166Z",
          "shell.execute_reply": "2022-09-16T18:23:22.603788Z"
        },
        "trusted": true,
        "id": "5CAgSuFlkkpJ"
      },
      "execution_count": 3,
      "outputs": []
    },
    {
      "cell_type": "code",
      "source": [
        "# TODO : take a quick look at the data\n",
        "print(df.describe(include='object'))\n",
        "print(df.describe())\n",
        "print(df['VARIANT_NAME'].unique())\n",
        "print(df)"
      ],
      "metadata": {
        "execution": {
          "iopub.status.busy": "2022-09-16T18:23:22.606556Z",
          "iopub.execute_input": "2022-09-16T18:23:22.607393Z",
          "iopub.status.idle": "2022-09-16T18:23:22.621022Z",
          "shell.execute_reply.started": "2022-09-16T18:23:22.607349Z",
          "shell.execute_reply": "2022-09-16T18:23:22.619749Z"
        },
        "trusted": true,
        "id": "1nvLy1dIkkpK",
        "colab": {
          "base_uri": "https://localhost:8080/"
        },
        "outputId": "7c099326-a2c3-4038-f656-1a8e559d8a61"
      },
      "execution_count": 41,
      "outputs": [
        {
          "output_type": "stream",
          "name": "stdout",
          "text": [
            "       VARIANT_NAME\n",
            "count         10000\n",
            "unique            2\n",
            "top         variant\n",
            "freq           5016\n",
            "            USER_ID       REVENUE\n",
            "count  10000.000000  10000.000000\n",
            "mean    4981.080200      0.099447\n",
            "std     2890.590115      2.318529\n",
            "min        2.000000      0.000000\n",
            "25%     2468.750000      0.000000\n",
            "50%     4962.000000      0.000000\n",
            "75%     7511.500000      0.000000\n",
            "max    10000.000000    196.010000\n",
            "['variant' 'control']\n",
            "      USER_ID VARIANT_NAME  REVENUE\n",
            "0         737      variant      0.0\n",
            "1        2423      control      0.0\n",
            "2        9411      control      0.0\n",
            "3        7311      control      0.0\n",
            "4        6174      variant      0.0\n",
            "...       ...          ...      ...\n",
            "9995     1981      control      0.0\n",
            "9996      502      variant      0.0\n",
            "9997     9214      variant      0.0\n",
            "9998     7741      control      0.0\n",
            "9999     9468      control      0.0\n",
            "\n",
            "[10000 rows x 3 columns]\n"
          ]
        }
      ]
    },
    {
      "cell_type": "markdown",
      "source": [
        "Let's see if there are users who have two A/B test groups"
      ],
      "metadata": {
        "id": "gvcmP9L5kkpL"
      }
    },
    {
      "cell_type": "code",
      "source": [
        "# TODO : Look at the distribution of the number of unique groups for each user\n",
        "user_group_counts = df.groupby('USER_ID')['VARIANT_NAME'].nunique()\n",
        "print(user_group_counts.describe())\n",
        "\n",
        "plt.figure(figsize=(10, 6))\n",
        "user_group_counts.hist(bins=20, edgecolor='black')\n",
        "plt.title('Distribution of Unique Groups per User')\n",
        "plt.xlabel('Number of Unique Groups')\n",
        "plt.ylabel('Number of Users')\n",
        "plt.show()"
      ],
      "metadata": {
        "execution": {
          "iopub.status.busy": "2022-09-16T18:23:22.659897Z",
          "iopub.execute_input": "2022-09-16T18:23:22.660468Z",
          "iopub.status.idle": "2022-09-16T18:23:22.673751Z",
          "shell.execute_reply.started": "2022-09-16T18:23:22.660438Z",
          "shell.execute_reply": "2022-09-16T18:23:22.672845Z"
        },
        "trusted": true,
        "id": "sQfYwAcWkkpL",
        "colab": {
          "base_uri": "https://localhost:8080/",
          "height": 725
        },
        "outputId": "06635dc3-c546-4da6-e5ac-a19b9d2abb29"
      },
      "execution_count": 10,
      "outputs": [
        {
          "output_type": "stream",
          "name": "stdout",
          "text": [
            "count    6324.000000\n",
            "mean        1.243675\n",
            "std         0.429333\n",
            "min         1.000000\n",
            "25%         1.000000\n",
            "50%         1.000000\n",
            "75%         1.000000\n",
            "max         2.000000\n",
            "Name: VARIANT_NAME, dtype: float64\n"
          ]
        },
        {
          "output_type": "display_data",
          "data": {
            "text/plain": [
              "<Figure size 1000x600 with 1 Axes>"
            ],
            "image/png": "[encoded data removed]"
          },
          "metadata": {}
        }
      ]
    },
    {
      "cell_type": "code",
      "source": [
        "# TODO : Look at the distribution of the number of unique groups for each user in relative terms\n",
        "group_distribution = user_group_counts.value_counts(normalize=True).sort_index()\n",
        "print(group_distribution)\n",
        "\n",
        "plt.figure(figsize=(10, 6))\n",
        "group_distribution.plot(kind='bar', color='skyblue', edgecolor='black')\n",
        "plt.title('Relative Distribution of Unique Groups per User')\n",
        "plt.xlabel('Number of Unique Groups')\n",
        "plt.ylabel('Proportion of Users')\n",
        "plt.xticks(rotation=0)\n",
        "plt.show()"
      ],
      "metadata": {
        "execution": {
          "iopub.status.busy": "2022-09-16T18:23:22.675099Z",
          "iopub.execute_input": "2022-09-16T18:23:22.675698Z",
          "iopub.status.idle": "2022-09-16T18:23:22.683077Z",
          "shell.execute_reply.started": "2022-09-16T18:23:22.675666Z",
          "shell.execute_reply": "2022-09-16T18:23:22.682019Z"
        },
        "trusted": true,
        "id": "X7D5HpjdkkpM",
        "colab": {
          "base_uri": "https://localhost:8080/",
          "height": 635
        },
        "outputId": "a0baf0d9-3f1e-4cad-f366-447257cd2a64"
      },
      "execution_count": 13,
      "outputs": [
        {
          "output_type": "stream",
          "name": "stdout",
          "text": [
            "VARIANT_NAME\n",
            "1    0.756325\n",
            "2    0.243675\n",
            "Name: proportion, dtype: float64\n"
          ]
        },
        {
          "output_type": "display_data",
          "data": {
            "text/plain": [
              "<Figure size 1000x600 with 1 Axes>"
            ],
            "image/png": "[encoded data removed]"
          },
          "metadata": {}
        }
      ]
    },
    {
      "cell_type": "markdown",
      "source": [
        "What can you observe ? Should we exclude these users ? Why ?"
      ],
      "metadata": {
        "id": "gyhapbJkkkpM"
      }
    },
    {
      "cell_type": "markdown",
      "source": [
        "20% of users have two groups\n",
        "If the goal is to see difference in revenue between two groups then yes, they should be excluded"
      ],
      "metadata": {
        "id": "oJfc0Ll-AZ6E"
      }
    },
    {
      "cell_type": "code",
      "source": [
        "# TODO : users have 1 A/B test group ?\n",
        "\n",
        "# TODO : Take only these users\n",
        "users_with_one_group = user_group_counts[user_group_counts == 1]\n",
        "print(f\"Number of users with exactly one A/B test group: {len(users_with_one_group)}\")\n",
        "\n",
        "df_one_group = df[df['USER_ID'].isin(users_with_one_group.index)]\n",
        "print(df_one_group.info())"
      ],
      "metadata": {
        "execution": {
          "iopub.status.busy": "2022-09-16T18:23:22.684621Z",
          "iopub.execute_input": "2022-09-16T18:23:22.68523Z",
          "iopub.status.idle": "2022-09-16T18:23:22.704635Z",
          "shell.execute_reply.started": "2022-09-16T18:23:22.685198Z",
          "shell.execute_reply": "2022-09-16T18:23:22.70344Z"
        },
        "trusted": true,
        "id": "MNRylCuikkpM",
        "colab": {
          "base_uri": "https://localhost:8080/"
        },
        "outputId": "30dc35fe-841a-443b-8c90-ef01d02f7989"
      },
      "execution_count": 21,
      "outputs": [
        {
          "output_type": "stream",
          "name": "stdout",
          "text": [
            "Number of users with exactly one A/B test group: 4783\n",
            "<class 'pandas.core.frame.DataFrame'>\n",
            "Index: 6070 entries, 0 to 9999\n",
            "Data columns (total 3 columns):\n",
            " #   Column        Non-Null Count  Dtype  \n",
            "---  ------        --------------  -----  \n",
            " 0   USER_ID       6070 non-null   int64  \n",
            " 1   VARIANT_NAME  6070 non-null   object \n",
            " 2   REVENUE       6070 non-null   float64\n",
            "dtypes: float64(1), int64(1), object(1)\n",
            "memory usage: 189.7+ KB\n",
            "None\n"
          ]
        }
      ]
    },
    {
      "cell_type": "code",
      "source": [
        "# TODO : Leave only records with users with the 1st ab test group\n",
        "df_first_group = df_one_group[df_one_group['VARIANT_NAME'] == 'control']\n",
        "print(df_first_group.info())\n",
        "\n",
        "# TODO : Check that the number of users matches what it was before the exception\n",
        "unique_users_filtered = df_first_group['USER_ID'].nunique()\n",
        "unique_users_before = users_with_one_group.nunique()\n",
        "if unique_users_filtered == unique_users_before:\n",
        "    print(\"Number of users matches expectations.\")\n",
        "else:\n",
        "    print(\"Number of users does not match expectations.\")\n",
        "print(f\"Number of unique users in filtered dataset: {unique_users_filtered}\")\n",
        "print(df_first_group)"
      ],
      "metadata": {
        "execution": {
          "iopub.status.busy": "2022-09-16T18:23:22.706067Z",
          "iopub.execute_input": "2022-09-16T18:23:22.707214Z",
          "iopub.status.idle": "2022-09-16T18:23:22.721546Z",
          "shell.execute_reply.started": "2022-09-16T18:23:22.70718Z",
          "shell.execute_reply": "2022-09-16T18:23:22.720237Z"
        },
        "trusted": true,
        "id": "4XvAx6ZtkkpM",
        "colab": {
          "base_uri": "https://localhost:8080/"
        },
        "outputId": "38a53e45-3137-4e0d-bf28-aacee612b2f4"
      },
      "execution_count": 51,
      "outputs": [
        {
          "output_type": "stream",
          "name": "stdout",
          "text": [
            "<class 'pandas.core.frame.DataFrame'>\n",
            "Index: 3026 entries, 7 to 9999\n",
            "Data columns (total 3 columns):\n",
            " #   Column        Non-Null Count  Dtype  \n",
            "---  ------        --------------  -----  \n",
            " 0   USER_ID       3026 non-null   int64  \n",
            " 1   VARIANT_NAME  3026 non-null   object \n",
            " 2   REVENUE       3026 non-null   float64\n",
            "dtypes: float64(1), int64(1), object(1)\n",
            "memory usage: 94.6+ KB\n",
            "None\n",
            "Number of users does not match expectations.\n",
            "Number of unique users in filtered dataset: 2390\n",
            "      USER_ID VARIANT_NAME  REVENUE\n",
            "7        9168      control      0.0\n",
            "9        7548      control      0.0\n",
            "10       8395      control      0.0\n",
            "11       1184      control      0.0\n",
            "12       7165      control      0.0\n",
            "...       ...          ...      ...\n",
            "9986     2161      control      0.0\n",
            "9988      428      control      0.0\n",
            "9994     3129      control      0.0\n",
            "9998     7741      control      0.0\n",
            "9999     9468      control      0.0\n",
            "\n",
            "[3026 rows x 3 columns]\n"
          ]
        }
      ]
    },
    {
      "cell_type": "markdown",
      "source": [
        "Let's see how the data is distributed"
      ],
      "metadata": {
        "id": "Vpvcse3pkkpM"
      }
    },
    {
      "cell_type": "code",
      "source": [
        "# TODO : Check how the data is distributed using a box plot\n",
        "sns.set(style=\"whitegrid\")\n",
        "plt.figure(figsize=(12, 6))\n",
        "sns.boxplot(data=df_first_group, x='VARIANT_NAME', y='REVENUE', palette='coolwarm')\n",
        "\n",
        "plt.title('Distribution of Revenue by Variant Group')\n",
        "plt.xlabel('A/B Test Group')\n",
        "plt.ylabel('Revenue')\n",
        "plt.show()"
      ],
      "metadata": {
        "execution": {
          "iopub.status.busy": "2022-09-16T18:23:22.722862Z",
          "iopub.execute_input": "2022-09-16T18:23:22.723766Z",
          "iopub.status.idle": "2022-09-16T18:23:22.98119Z",
          "shell.execute_reply.started": "2022-09-16T18:23:22.723732Z",
          "shell.execute_reply": "2022-09-16T18:23:22.980008Z"
        },
        "trusted": true,
        "id": "EW1ZGmsukkpN",
        "colab": {
          "base_uri": "https://localhost:8080/",
          "height": 672
        },
        "outputId": "76ad0faf-7cdc-4c3b-a25c-4b0f9df8ec1b"
      },
      "execution_count": 52,
      "outputs": [
        {
          "output_type": "stream",
          "name": "stderr",
          "text": [
            "<ipython-input-52-8b5cdcee9d5b>:4: FutureWarning: \n",
            "\n",
            "Passing `palette` without assigning `hue` is deprecated and will be removed in v0.14.0. Assign the `x` variable to `hue` and set `legend=False` for the same effect.\n",
            "\n",
            "  sns.boxplot(data=df_first_group, x='VARIANT_NAME', y='REVENUE', palette='coolwarm')\n"
          ]
        },
        {
          "output_type": "display_data",
          "data": {
            "text/plain": [
              "<Figure size 1200x600 with 1 Axes>"
            ],
            "image/png": "[encoded data removed]"
          },
          "metadata": {}
        }
      ]
    },
    {
      "cell_type": "markdown",
      "source": [
        "It can be seen that there is a strong outlier in the data - we will find it by sorting these revenue values in descending order"
      ],
      "metadata": {
        "id": "Hlp3psWykkpN"
      }
    },
    {
      "cell_type": "code",
      "source": [
        "# TODO : Sort these revenue values in descending order\n",
        "\n",
        "df_first_group_sorted = df_first_group.sort_values(by='REVENUE', ascending=False)\n",
        "print(df_first_group_sorted.head())"
      ],
      "metadata": {
        "execution": {
          "iopub.status.busy": "2022-09-16T18:23:22.986753Z",
          "iopub.execute_input": "2022-09-16T18:23:22.987116Z",
          "iopub.status.idle": "2022-09-16T18:23:23.005356Z",
          "shell.execute_reply.started": "2022-09-16T18:23:22.987087Z",
          "shell.execute_reply": "2022-09-16T18:23:23.004381Z"
        },
        "trusted": true,
        "id": "9O6xaJmOkkpN",
        "colab": {
          "base_uri": "https://localhost:8080/"
        },
        "outputId": "429411cd-da13-4245-a3de-ccadc330b113"
      },
      "execution_count": 53,
      "outputs": [
        {
          "output_type": "stream",
          "name": "stdout",
          "text": [
            "      USER_ID VARIANT_NAME  REVENUE\n",
            "1437     3342      control   196.01\n",
            "8168     2166      control    29.32\n",
            "6412     1053      control    20.07\n",
            "5530      282      control    18.56\n",
            "758      4445      control    17.05\n"
          ]
        }
      ]
    },
    {
      "cell_type": "code",
      "source": [
        "# TODO : See if user 3342 had other events with a strong outlier\n",
        "user_3342_data = df[df['USER_ID'] == 3342]\n",
        "print(user_3342_data)"
      ],
      "metadata": {
        "execution": {
          "iopub.status.busy": "2022-09-16T18:23:23.009204Z",
          "iopub.execute_input": "2022-09-16T18:23:23.009563Z",
          "iopub.status.idle": "2022-09-16T18:23:23.022364Z",
          "shell.execute_reply.started": "2022-09-16T18:23:23.009514Z",
          "shell.execute_reply": "2022-09-16T18:23:23.020814Z"
        },
        "trusted": true,
        "id": "zzX8JJiIkkpN",
        "colab": {
          "base_uri": "https://localhost:8080/"
        },
        "outputId": "cb21b5b0-5fb8-407b-d670-f36b3b2666bd"
      },
      "execution_count": 54,
      "outputs": [
        {
          "output_type": "stream",
          "name": "stdout",
          "text": [
            "      USER_ID VARIANT_NAME  REVENUE\n",
            "1437     3342      control   196.01\n"
          ]
        }
      ]
    },
    {
      "cell_type": "markdown",
      "source": [
        "We see that there is only one outlier - in conditions of limited information, we will remove this entry and look at the distribution of data again"
      ],
      "metadata": {
        "id": "rvfqeZW6kkpN"
      }
    },
    {
      "cell_type": "code",
      "source": [
        "# TODO : We see that there is only one outlier - in conditions of limited information, remove this entry and visualize the distribution of data again.\n",
        "df_first_group_filtered = df_first_group[df_first_group['USER_ID'] != 3342]\n",
        "print(df_first_group_filtered.info())\n",
        "\n",
        "sns.set(style=\"whitegrid\")\n",
        "plt.figure(figsize=(12, 6))\n",
        "sns.boxplot(data=df_first_group_filtered, x='VARIANT_NAME', y='REVENUE', palette='coolwarm')\n",
        "\n",
        "plt.title('Distribution of Revenue by Variant Group')\n",
        "plt.xlabel('A/B Test Group')\n",
        "plt.ylabel('Revenue')\n",
        "plt.show()"
      ],
      "metadata": {
        "execution": {
          "iopub.status.busy": "2022-09-16T18:23:23.024282Z",
          "iopub.execute_input": "2022-09-16T18:23:23.024763Z",
          "iopub.status.idle": "2022-09-16T18:23:23.031917Z",
          "shell.execute_reply.started": "2022-09-16T18:23:23.024711Z",
          "shell.execute_reply": "2022-09-16T18:23:23.030566Z"
        },
        "trusted": true,
        "id": "9VHXOhaVkkpO",
        "colab": {
          "base_uri": "https://localhost:8080/",
          "height": 873
        },
        "outputId": "bf1d19b0-5cae-4e84-a047-2ba759c9ea01"
      },
      "execution_count": 55,
      "outputs": [
        {
          "output_type": "stream",
          "name": "stdout",
          "text": [
            "<class 'pandas.core.frame.DataFrame'>\n",
            "Index: 3025 entries, 7 to 9999\n",
            "Data columns (total 3 columns):\n",
            " #   Column        Non-Null Count  Dtype  \n",
            "---  ------        --------------  -----  \n",
            " 0   USER_ID       3025 non-null   int64  \n",
            " 1   VARIANT_NAME  3025 non-null   object \n",
            " 2   REVENUE       3025 non-null   float64\n",
            "dtypes: float64(1), int64(1), object(1)\n",
            "memory usage: 94.5+ KB\n",
            "None\n"
          ]
        },
        {
          "output_type": "stream",
          "name": "stderr",
          "text": [
            "<ipython-input-55-47623b9f60a7>:7: FutureWarning: \n",
            "\n",
            "Passing `palette` without assigning `hue` is deprecated and will be removed in v0.14.0. Assign the `x` variable to `hue` and set `legend=False` for the same effect.\n",
            "\n",
            "  sns.boxplot(data=df_first_group_filtered, x='VARIANT_NAME', y='REVENUE', palette='coolwarm')\n"
          ]
        },
        {
          "output_type": "display_data",
          "data": {
            "text/plain": [
              "<Figure size 1200x600 with 1 Axes>"
            ],
            "image/png": "[encoded data removed]"
          },
          "metadata": {}
        }
      ]
    },
    {
      "cell_type": "markdown",
      "source": [
        "\n",
        "What can you say about the users and their purchases ?"
      ],
      "metadata": {
        "id": "r8pN_6oekkpO"
      }
    },
    {
      "cell_type": "markdown",
      "source": [
        "That most of them do not purchase anything..."
      ],
      "metadata": {
        "id": "KI-lY-NnFqaK"
      }
    },
    {
      "cell_type": "code",
      "source": [
        "# TODO : Check if there are users who have records with zero and positive revenue\n",
        "\n",
        "users_with_zero_revenue = df_first_group_filtered[df_first_group_filtered['REVENUE'] == 0]['USER_ID'].unique()\n",
        "users_with_positive_revenue = df_first_group_filtered[df_first_group_filtered['REVENUE'] > 0]['USER_ID'].unique()\n",
        "users_with_both_revenue = set(users_with_zero_revenue) & set(users_with_positive_revenue)\n",
        "print(f\"Number of users with both zero and positive revenue: {len(users_with_both_revenue)}\")\n",
        "\n",
        "df_users_with_both_revenue = df_first_group_filtered[df_first_group_filtered['USER_ID'].isin(users_with_both_revenue)]\n",
        "plt.figure(figsize=(12, 6))\n",
        "sns.boxplot(data=df_users_with_both_revenue, x='VARIANT_NAME', y='REVENUE', hue = 'VARIANT_NAME', legend = False, palette='coolwarm')\n",
        "\n",
        "plt.title('Revenue Distribution for Users with Zero and Positive Revenue')\n",
        "plt.xlabel('A/B Test Group')\n",
        "plt.ylabel('Revenue')\n",
        "plt.show()"
      ],
      "metadata": {
        "execution": {
          "iopub.status.busy": "2022-09-16T18:23:23.396475Z",
          "iopub.execute_input": "2022-09-16T18:23:23.397266Z",
          "iopub.status.idle": "2022-09-16T18:23:23.4091Z",
          "shell.execute_reply.started": "2022-09-16T18:23:23.397231Z",
          "shell.execute_reply": "2022-09-16T18:23:23.407843Z"
        },
        "trusted": true,
        "id": "VZ3v8TeekkpO",
        "colab": {
          "base_uri": "https://localhost:8080/",
          "height": 585
        },
        "outputId": "f0fd53ce-e753-4656-9dd5-3050688ed651"
      },
      "execution_count": 60,
      "outputs": [
        {
          "output_type": "stream",
          "name": "stdout",
          "text": [
            "Number of users with both zero and positive revenue: 24\n"
          ]
        },
        {
          "output_type": "display_data",
          "data": {
            "text/plain": [
              "<Figure size 1200x600 with 1 Axes>"
            ],
            "image/png": "[encoded data removed]"
          },
          "metadata": {}
        }
      ]
    },
    {
      "cell_type": "markdown",
      "source": [
        "Can a user have records with both zero and positive revenue ?\n",
        "\n",
        "Let's make the assumption that the records are user visits to the service, and the experimental unit is users.\n"
      ],
      "metadata": {
        "id": "u_G7PRphkkpO"
      }
    },
    {
      "cell_type": "code",
      "source": [
        "# TODO : Group the data for each user and sum the revenue for each to get one record per user\n",
        "df_user_revenue = df_first_group_filtered.groupby('USER_ID')['REVENUE'].sum().reset_index()"
      ],
      "metadata": {
        "execution": {
          "iopub.status.busy": "2022-09-16T18:23:23.410519Z",
          "iopub.execute_input": "2022-09-16T18:23:23.411317Z",
          "iopub.status.idle": "2022-09-16T18:23:23.425157Z",
          "shell.execute_reply.started": "2022-09-16T18:23:23.411275Z",
          "shell.execute_reply": "2022-09-16T18:23:23.423982Z"
        },
        "trusted": true,
        "id": "R5GdAtTXkkpP"
      },
      "execution_count": 62,
      "outputs": []
    },
    {
      "cell_type": "code",
      "source": [
        "# TODO : Visualize the resulting distribution of the data again.\n",
        "plt.figure(figsize=(12, 6))\n",
        "sns.histplot(df_user_revenue['REVENUE'], kde=True, color='skyblue')\n",
        "plt.title('Total Revenue Distribution by User')\n",
        "plt.xlabel('Total Revenue')\n",
        "plt.ylabel('Frequency')\n",
        "plt.show()"
      ],
      "metadata": {
        "execution": {
          "iopub.status.busy": "2022-09-16T18:23:23.428689Z",
          "iopub.execute_input": "2022-09-16T18:23:23.428999Z",
          "iopub.status.idle": "2022-09-16T18:23:23.783807Z",
          "shell.execute_reply.started": "2022-09-16T18:23:23.428972Z",
          "shell.execute_reply": "2022-09-16T18:23:23.782679Z"
        },
        "trusted": true,
        "id": "Q7H93ZwNkkpP",
        "colab": {
          "base_uri": "https://localhost:8080/",
          "height": 557
        },
        "outputId": "b0487826-dbad-4286-986e-e5a93de7c08a"
      },
      "execution_count": 70,
      "outputs": [
        {
          "output_type": "display_data",
          "data": {
            "text/plain": [
              "<Figure size 1200x600 with 1 Axes>"
            ],
            "image/png": "[encoded data removed]"
          },
          "metadata": {}
        }
      ]
    },
    {
      "cell_type": "markdown",
      "source": [
        "It should be noted that during the transformation, the quantiles in the test group increased\n",
        "\n",
        "It can be seen that in the test group, almost all quantile statistics, except for the minimum, are at a slightly lower level.\n",
        "\n",
        "Let's look at various statistics in the context of AB test groups for all users"
      ],
      "metadata": {
        "id": "_NTyRweHkkpP"
      }
    },
    {
      "cell_type": "code",
      "source": [
        "# TODO : get metrics by groups\n",
        "grouped_metrics = df_one_group.groupby('VARIANT_NAME')['REVENUE'].describe()\n",
        "print(grouped_metrics)\n",
        "# TODO : create two additional metrics to see relative changes\n",
        "#mean revenue difference\n",
        "mean_revenue_variant = df_one_group.groupby('VARIANT_NAME')['REVENUE'].mean()\n",
        "mean_revenue_diff = mean_revenue_variant.diff().iloc[-1]  # Last entry gives difference between the two groups\n",
        "#percentage change in total revenue for each group\n",
        "total_revenue_variant = df_one_group.groupby('VARIANT_NAME')['REVENUE'].sum()\n",
        "total_revenue_percent_change = (total_revenue_variant.diff() / total_revenue_variant.shift(1)) * 100\n",
        "\n",
        "grouped_metrics['mean_revenue_diff'] = mean_revenue_diff\n",
        "grouped_metrics['total_revenue_percent_change'] = total_revenue_percent_change.iloc[-1]\n",
        "print(grouped_metrics)\n",
        "\n",
        "# TODO : add them to the rest of the metrics in a separate group\n",
        "extended_metrics = grouped_metrics[['mean', '50%', 'std', 'min', 'max']].copy()\n",
        "extended_metrics.loc[:, 'mean_revenue_diff'] = mean_revenue_diff\n",
        "extended_metrics.loc[:, 'total_revenue_percent_change'] = total_revenue_percent_change.iloc[-1]\n",
        "print(extended_metrics)\n",
        "\n"
      ],
      "metadata": {
        "execution": {
          "iopub.status.busy": "2022-09-16T18:23:23.785212Z",
          "iopub.execute_input": "2022-09-16T18:23:23.78594Z",
          "iopub.status.idle": "2022-09-16T18:23:23.813162Z",
          "shell.execute_reply.started": "2022-09-16T18:23:23.785905Z",
          "shell.execute_reply": "2022-09-16T18:23:23.812388Z"
        },
        "trusted": true,
        "id": "9QF5FZTAkkpP",
        "colab": {
          "base_uri": "https://localhost:8080/"
        },
        "outputId": "8f88b7e7-2382-4de1-b2a1-860d532ef84b"
      },
      "execution_count": 74,
      "outputs": [
        {
          "output_type": "stream",
          "name": "stdout",
          "text": [
            "               count      mean       std  min  25%  50%  75%     max\n",
            "VARIANT_NAME                                                        \n",
            "control       3026.0  0.155506  3.708620  0.0  0.0  0.0  0.0  196.01\n",
            "variant       3044.0  0.058909  0.760344  0.0  0.0  0.0  0.0   23.04\n",
            "               count      mean       std  min  25%  50%  75%     max  \\\n",
            "VARIANT_NAME                                                           \n",
            "control       3026.0  0.155506  3.708620  0.0  0.0  0.0  0.0  196.01   \n",
            "variant       3044.0  0.058909  0.760344  0.0  0.0  0.0  0.0   23.04   \n",
            "\n",
            "              mean_revenue_diff  total_revenue_percent_change  \n",
            "VARIANT_NAME                                                   \n",
            "control               -0.096596                    -61.892214  \n",
            "variant               -0.096596                    -61.892214  \n",
            "                  mean  50%       std  min     max  mean_revenue_diff  \\\n",
            "VARIANT_NAME                                                            \n",
            "control       0.155506  0.0  3.708620  0.0  196.01          -0.096596   \n",
            "variant       0.058909  0.0  0.760344  0.0   23.04          -0.096596   \n",
            "\n",
            "              total_revenue_percent_change  \n",
            "VARIANT_NAME                                \n",
            "control                         -61.892214  \n",
            "variant                         -61.892214  \n"
          ]
        }
      ]
    },
    {
      "cell_type": "markdown",
      "source": [
        "What can you see in the test group about the total amount of revenue, the average check per user, and the number of orders per user slightly increased ?\n",
        "\n",
        "Let's also see how paying users behave :"
      ],
      "metadata": {
        "id": "-FEgWEXckkpP"
      }
    },
    {
      "cell_type": "code",
      "source": [
        "# TODO : get metrics by groups\n",
        "paying_users_df = df_one_group[df_one_group['REVENUE'] > 0]\n",
        "paying_users_metrics = paying_users_df.groupby('VARIANT_NAME')['REVENUE'].describe()\n",
        "\n",
        "# TODO : create two additional metrics to see relative changes\n",
        "mean_revenue_variant_paying = paying_users_df.groupby('VARIANT_NAME')['REVENUE'].mean()\n",
        "mean_revenue_diff_paying = mean_revenue_variant_paying.diff().iloc[-1]\n",
        "total_revenue_variant_paying = paying_users_df.groupby('VARIANT_NAME')['REVENUE'].sum()\n",
        "total_revenue_percent_change_paying = (total_revenue_variant_paying.diff() / total_revenue_variant_paying.shift(1)) * 100\n",
        "\n",
        "# TODO : add them to the rest of the metrics in a separate group\n",
        "\n",
        "extended_paying_metrics = paying_users_metrics[['mean', '50%', 'std', 'min', 'max']].copy()\n",
        "extended_paying_metrics.loc[:, 'mean_revenue_diff'] = mean_revenue_diff_paying\n",
        "extended_paying_metrics.loc[:, 'total_revenue_percent_change'] = total_revenue_percent_change_paying.iloc[-1]\n",
        "print(extended_paying_metrics)\n"
      ],
      "metadata": {
        "execution": {
          "iopub.status.busy": "2022-09-16T18:23:23.814201Z",
          "iopub.execute_input": "2022-09-16T18:23:23.814781Z",
          "iopub.status.idle": "2022-09-16T18:23:23.842362Z",
          "shell.execute_reply.started": "2022-09-16T18:23:23.814749Z",
          "shell.execute_reply": "2022-09-16T18:23:23.841593Z"
        },
        "trusted": true,
        "id": "ZM1LQ1VrkkpQ",
        "colab": {
          "base_uri": "https://localhost:8080/"
        },
        "outputId": "479b6cbd-ba01-4193-c8d1-c3fc75ae581c"
      },
      "execution_count": 84,
      "outputs": [
        {
          "output_type": "stream",
          "name": "stdout",
          "text": [
            "                  mean   50%        std   min     max  mean_revenue_diff  \\\n",
            "VARIANT_NAME                                                               \n",
            "control       8.714074  3.12  26.627446  0.02  196.01          -4.543842   \n",
            "variant       4.170233  2.72   4.932851  0.02   23.04          -4.543842   \n",
            "\n",
            "              total_revenue_percent_change  \n",
            "VARIANT_NAME                                \n",
            "control                         -61.892214  \n",
            "variant                         -61.892214  \n"
          ]
        }
      ]
    },
    {
      "cell_type": "markdown",
      "source": [
        "Let's look at the distributions of all and only paying users"
      ],
      "metadata": {
        "id": "RozYt1eZkkpQ"
      }
    },
    {
      "cell_type": "code",
      "source": [
        "f, axes = plt.subplots(2, figsize=(10,8))\n",
        "# build graphs of distributions of all users\n",
        "sns.distplot(df.loc[df['VARIANT_NAME'] == 'control', 'REVENUE'], ax = axes[0], label='control')\n",
        "sns.distplot(df.loc[df['VARIANT_NAME'] == 'variant', 'REVENUE'], ax = axes[0], label='variant')\n",
        "axes[0].set_title('Distribution of revenue of all users')\n",
        "\n",
        "# build graphs of distributions of paying users\n",
        "sns.distplot(df.loc[(df['VARIANT_NAME'] == 'control') & (df['REVENUE'] > 0), 'REVENUE'], ax = axes[1], label='control' )\n",
        "sns.distplot(df.loc[(df['VARIANT_NAME'] == 'variant') & (df['REVENUE'] > 0), 'REVENUE'], ax = axes[1], label='variant' )\n",
        "axes[1].set_title('Paying user revenue distribution')\n",
        "plt.legend()\n",
        "plt.subplots_adjust(hspace = 0.3)"
      ],
      "metadata": {
        "execution": {
          "iopub.status.busy": "2022-09-16T18:23:23.843826Z",
          "iopub.execute_input": "2022-09-16T18:23:23.844477Z",
          "iopub.status.idle": "2022-09-16T18:23:24.587221Z",
          "shell.execute_reply.started": "2022-09-16T18:23:23.844435Z",
          "shell.execute_reply": "2022-09-16T18:23:24.585887Z"
        },
        "trusted": true,
        "id": "Xmm-HM-ZkkpQ",
        "colab": {
          "base_uri": "https://localhost:8080/",
          "height": 1000
        },
        "outputId": "bab9bb71-3e23-448b-b4f8-fed4c29424dd"
      },
      "execution_count": 85,
      "outputs": [
        {
          "output_type": "stream",
          "name": "stderr",
          "text": [
            "<ipython-input-85-6823f3e6b917>:3: UserWarning: \n",
            "\n",
            "`distplot` is a deprecated function and will be removed in seaborn v0.14.0.\n",
            "\n",
            "Please adapt your code to use either `displot` (a figure-level function with\n",
            "similar flexibility) or `histplot` (an axes-level function for histograms).\n",
            "\n",
            "For a guide to updating your code to use the new functions, please see\n",
            "https://gist.github.com/mwaskom/de44147ed2974457ad6372750bbe5751\n",
            "\n",
            "  sns.distplot(df.loc[df['VARIANT_NAME'] == 'control', 'REVENUE'], ax = axes[0], label='control')\n",
            "<ipython-input-85-6823f3e6b917>:4: UserWarning: \n",
            "\n",
            "`distplot` is a deprecated function and will be removed in seaborn v0.14.0.\n",
            "\n",
            "Please adapt your code to use either `displot` (a figure-level function with\n",
            "similar flexibility) or `histplot` (an axes-level function for histograms).\n",
            "\n",
            "For a guide to updating your code to use the new functions, please see\n",
            "https://gist.github.com/mwaskom/de44147ed2974457ad6372750bbe5751\n",
            "\n",
            "  sns.distplot(df.loc[df['VARIANT_NAME'] == 'variant', 'REVENUE'], ax = axes[0], label='variant')\n",
            "<ipython-input-85-6823f3e6b917>:8: UserWarning: \n",
            "\n",
            "`distplot` is a deprecated function and will be removed in seaborn v0.14.0.\n",
            "\n",
            "Please adapt your code to use either `displot` (a figure-level function with\n",
            "similar flexibility) or `histplot` (an axes-level function for histograms).\n",
            "\n",
            "For a guide to updating your code to use the new functions, please see\n",
            "https://gist.github.com/mwaskom/de44147ed2974457ad6372750bbe5751\n",
            "\n",
            "  sns.distplot(df.loc[(df['VARIANT_NAME'] == 'control') & (df['REVENUE'] > 0), 'REVENUE'], ax = axes[1], label='control' )\n",
            "<ipython-input-85-6823f3e6b917>:9: UserWarning: \n",
            "\n",
            "`distplot` is a deprecated function and will be removed in seaborn v0.14.0.\n",
            "\n",
            "Please adapt your code to use either `displot` (a figure-level function with\n",
            "similar flexibility) or `histplot` (an axes-level function for histograms).\n",
            "\n",
            "For a guide to updating your code to use the new functions, please see\n",
            "https://gist.github.com/mwaskom/de44147ed2974457ad6372750bbe5751\n",
            "\n",
            "  sns.distplot(df.loc[(df['VARIANT_NAME'] == 'variant') & (df['REVENUE'] > 0), 'REVENUE'], ax = axes[1], label='variant' )\n"
          ]
        },
        {
          "output_type": "display_data",
          "data": {
            "text/plain": [
              "<Figure size 1000x800 with 2 Axes>"
            ],
            "image/png": "[encoded data removed]"
          },
          "metadata": {}
        }
      ]
    },
    {
      "cell_type": "markdown",
      "source": [
        "### Statistical Analysis <a name=\"Statistical\"/>"
      ],
      "metadata": {
        "id": "5vwsQSeVkkpQ"
      }
    },
    {
      "cell_type": "markdown",
      "source": [
        "#### Checking if the distribution is normal"
      ],
      "metadata": {
        "id": "lJP78Hc_kkpQ"
      }
    },
    {
      "cell_type": "markdown",
      "source": [
        "Based on their previous graph, we see that the data is not normally distributed."
      ],
      "metadata": {
        "id": "BVRKdz3WkkpQ"
      }
    },
    {
      "cell_type": "code",
      "source": [
        "# TODO : Use the Shapiro-Wilk criterion to confirm it\n",
        "\n",
        "control_all_users = df.loc[df['VARIANT_NAME'] == 'control', 'REVENUE']\n",
        "variant_all_users = df.loc[df['VARIANT_NAME'] == 'variant', 'REVENUE']\n",
        "\n",
        "stat_control_all, p_value_control_all = shapiro(control_all_users)\n",
        "stat_variant_all, p_value_variant_all = shapiro(variant_all_users)\n",
        "\n",
        "control_paying_users = df.loc[(df['VARIANT_NAME'] == 'control') & (df['REVENUE'] > 0), 'REVENUE']\n",
        "variant_paying_users = df.loc[(df['VARIANT_NAME'] == 'variant') & (df['REVENUE'] > 0), 'REVENUE']\n",
        "\n",
        "stat_control_paying, p_value_control_paying = shapiro(control_paying_users)\n",
        "stat_variant_paying, p_value_variant_paying = shapiro(variant_paying_users)\n",
        "\n",
        "print(f\"Shapiro-Wilk Test for Control (All Users): Stat={stat_control_all}, p-value={p_value_control_all}\")\n",
        "print(f\"Shapiro-Wilk Test for Variant (All Users): Stat={stat_variant_all}, p-value={p_value_variant_all}\")\n",
        "print(f\"Shapiro-Wilk Test for Control (Paying Users): Stat={stat_control_paying}, p-value={p_value_control_paying}\")\n",
        "print(f\"Shapiro-Wilk Test for Variant (Paying Users): Stat={stat_variant_paying}, p-value={p_value_variant_paying}\")\n"
      ],
      "metadata": {
        "execution": {
          "iopub.status.busy": "2022-09-16T18:23:24.588685Z",
          "iopub.execute_input": "2022-09-16T18:23:24.589024Z",
          "iopub.status.idle": "2022-09-16T18:23:24.597871Z",
          "shell.execute_reply.started": "2022-09-16T18:23:24.588995Z",
          "shell.execute_reply": "2022-09-16T18:23:24.596794Z"
        },
        "trusted": true,
        "id": "je2NXscMkkpQ",
        "colab": {
          "base_uri": "https://localhost:8080/"
        },
        "outputId": "4fb8ee47-ed9b-4b26-cdff-fe06f4cf5366"
      },
      "execution_count": 86,
      "outputs": [
        {
          "output_type": "stream",
          "name": "stdout",
          "text": [
            "Shapiro-Wilk Test for Control (All Users): Stat=0.01833147442513483, p-value=2.4983285100057203e-95\n",
            "Shapiro-Wilk Test for Variant (All Users): Stat=0.027033073451830147, p-value=2.7310104028899288e-95\n",
            "Shapiro-Wilk Test for Control (Paying Users): Stat=0.28080554615611364, p-value=6.50334178109615e-18\n",
            "Shapiro-Wilk Test for Variant (Paying Users): Stat=0.4170522102926101, p-value=2.114043206787204e-15\n"
          ]
        },
        {
          "output_type": "stream",
          "name": "stderr",
          "text": [
            "/usr/local/lib/python3.10/dist-packages/scipy/stats/_axis_nan_policy.py:531: UserWarning: scipy.stats.shapiro: For N > 5000, computed p-value may not be accurate. Current N is 5016.\n",
            "  res = hypotest_fun_out(*samples, **kwds)\n"
          ]
        }
      ]
    },
    {
      "cell_type": "markdown",
      "source": [
        "Is the null hypothesis about the normal distribution of the data rejected ?\n",
        "\n",
        "Rejected"
      ],
      "metadata": {
        "id": "Pq-RbAERkkpR"
      }
    },
    {
      "cell_type": "markdown",
      "source": [
        "#### Mann-Whitney test"
      ],
      "metadata": {
        "id": "nYxHXTxpkkpR"
      }
    },
    {
      "cell_type": "markdown",
      "source": [
        "Let's check the value of the statistics of the Mann-Whitney test. Some sources have a limitation of applicability in case of duplicate data. There are a lot of repetitions in our sample, and especially a lot of zero values, so in this case we need to be careful about this criterion."
      ],
      "metadata": {
        "id": "eGKBrlFnkkpR"
      }
    },
    {
      "cell_type": "code",
      "source": [
        "(df['REVENUE'] == 0).value_counts()"
      ],
      "metadata": {
        "execution": {
          "iopub.status.busy": "2022-09-16T18:23:24.599408Z",
          "iopub.execute_input": "2022-09-16T18:23:24.600052Z",
          "iopub.status.idle": "2022-09-16T18:23:24.609697Z",
          "shell.execute_reply.started": "2022-09-16T18:23:24.600019Z",
          "shell.execute_reply": "2022-09-16T18:23:24.608442Z"
        },
        "trusted": true,
        "id": "ftj_LlaZkkpR",
        "colab": {
          "base_uri": "https://localhost:8080/",
          "height": 178
        },
        "outputId": "7d691e31-54c5-4a40-e8dc-c16752eb735e"
      },
      "execution_count": 87,
      "outputs": [
        {
          "output_type": "execute_result",
          "data": {
            "text/plain": [
              "REVENUE\n",
              "True     9848\n",
              "False     152\n",
              "Name: count, dtype: int64"
            ],
            "text/html": [
              "<div>\n",
              "<style scoped>\n",
              "    .dataframe tbody tr th:only-of-type {\n",
              "        vertical-align: middle;\n",
              "    }\n",
              "\n",
              "    .dataframe tbody tr th {\n",
              "        vertical-align: top;\n",
              "    }\n",
              "\n",
              "    .dataframe thead th {\n",
              "        text-align: right;\n",
              "    }\n",
              "</style>\n",
              "<table border=\"1\" class=\"dataframe\">\n",
              "  <thead>\n",
              "    <tr style=\"text-align: right;\">\n",
              "      <th></th>\n",
              "      <th>count</th>\n",
              "    </tr>\n",
              "    <tr>\n",
              "      <th>REVENUE</th>\n",
              "      <th></th>\n",
              "    </tr>\n",
              "  </thead>\n",
              "  <tbody>\n",
              "    <tr>\n",
              "      <th>True</th>\n",
              "      <td>9848</td>\n",
              "    </tr>\n",
              "    <tr>\n",
              "      <th>False</th>\n",
              "      <td>152</td>\n",
              "    </tr>\n",
              "  </tbody>\n",
              "</table>\n",
              "</div><br><label><b>dtype:</b> int64</label>"
            ]
          },
          "metadata": {},
          "execution_count": 87
        }
      ]
    },
    {
      "cell_type": "code",
      "source": [
        "# TODO : Check on the data of all users the value of the statistics of the Mann-Whitney test\n",
        "\n",
        "control_all_users = df.loc[df['VARIANT_NAME'] == 'control', 'REVENUE']\n",
        "variant_all_users = df.loc[df['VARIANT_NAME'] == 'variant', 'REVENUE']\n",
        "stat, p_value = mannwhitneyu(control_all_users, variant_all_users)\n",
        "\n",
        "print(f\"Mann-Whitney U Test Statistics: {stat}\")\n",
        "print(f\"P-value: {p_value}\")"
      ],
      "metadata": {
        "execution": {
          "iopub.status.busy": "2022-09-16T18:23:24.611079Z",
          "iopub.execute_input": "2022-09-16T18:23:24.611478Z",
          "iopub.status.idle": "2022-09-16T18:23:24.627499Z",
          "shell.execute_reply.started": "2022-09-16T18:23:24.611448Z",
          "shell.execute_reply": "2022-09-16T18:23:24.626266Z"
        },
        "trusted": true,
        "id": "liLsCl00kkpR",
        "colab": {
          "base_uri": "https://localhost:8080/"
        },
        "outputId": "d69dbca9-3a2c-4d02-a56e-8e76e6997e82"
      },
      "execution_count": 88,
      "outputs": [
        {
          "output_type": "stream",
          "name": "stdout",
          "text": [
            "Mann-Whitney U Test Statistics: 12521564.0\n",
            "P-value: 0.47825247965294926\n"
          ]
        }
      ]
    },
    {
      "cell_type": "code",
      "source": [
        "# TODO : Check on the data of only the users that pay, the value of the statistics of the Mann-Whitney test\n",
        "\n",
        "paying_users_df = df.loc[df['REVENUE'] > 0]\n",
        "control_paying_users = paying_users_df.loc[paying_users_df['VARIANT_NAME'] == 'control', 'REVENUE']\n",
        "variant_paying_users = paying_users_df.loc[paying_users_df['VARIANT_NAME'] == 'variant', 'REVENUE']\n",
        "stat, p_value = mannwhitneyu(control_paying_users, variant_paying_users)\n",
        "\n",
        "print(f\"Mann-Whitney U Test Statistics (Paying Users): {stat}\")\n",
        "print(f\"P-value (Paying Users): {p_value}\")"
      ],
      "metadata": {
        "execution": {
          "iopub.status.busy": "2022-09-16T18:23:24.632144Z",
          "iopub.execute_input": "2022-09-16T18:23:24.632496Z",
          "iopub.status.idle": "2022-09-16T18:23:24.644752Z",
          "shell.execute_reply.started": "2022-09-16T18:23:24.632466Z",
          "shell.execute_reply": "2022-09-16T18:23:24.643569Z"
        },
        "trusted": true,
        "id": "tCCcVEM4kkpS",
        "colab": {
          "base_uri": "https://localhost:8080/"
        },
        "outputId": "31f5acce-4306-4ca9-9b09-906e422aafd2"
      },
      "execution_count": 89,
      "outputs": [
        {
          "output_type": "stream",
          "name": "stdout",
          "text": [
            "Mann-Whitney U Test Statistics (Paying Users): 3356.0\n",
            "P-value (Paying Users): 0.07924299810603061\n"
          ]
        }
      ]
    },
    {
      "cell_type": "markdown",
      "source": [
        "#### Bootstrap"
      ],
      "metadata": {
        "execution": {
          "iopub.status.busy": "2022-09-16T17:49:10.3638Z",
          "iopub.execute_input": "2022-09-16T17:49:10.365079Z",
          "iopub.status.idle": "2022-09-16T17:49:10.369587Z",
          "shell.execute_reply.started": "2022-09-16T17:49:10.365037Z",
          "shell.execute_reply": "2022-09-16T17:49:10.368719Z"
        },
        "id": "XBp259a8kkpS"
      }
    },
    {
      "cell_type": "markdown",
      "source": [
        "In order to get more complete information about the differences between the average values of the ab test groups, we will use bootstap.\n",
        "\n",
        "Let's create a function to get back samples and get a confidence interval, and then look at the sample statistics"
      ],
      "metadata": {
        "id": "0xpO-CmekkpS"
      }
    },
    {
      "cell_type": "code",
      "source": [
        "def get_bootstrap_samples(data, n_samples=1000):\n",
        "    indices = np.random.randint(0, len(data), (n_samples, len(data)))\n",
        "    samples = data[indices]\n",
        "    return samples\n",
        "\n",
        "def stat_intervals(stat, alpha=0.05):\n",
        "    boundaries = np.percentile(stat, [100 * alpha / 2., 100 * (1 - alpha / 2.)])\n",
        "    return boundaries"
      ],
      "metadata": {
        "execution": {
          "iopub.status.busy": "2022-09-16T18:23:24.645844Z",
          "iopub.execute_input": "2022-09-16T18:23:24.646134Z",
          "iopub.status.idle": "2022-09-16T18:23:24.653955Z",
          "shell.execute_reply.started": "2022-09-16T18:23:24.646108Z",
          "shell.execute_reply": "2022-09-16T18:23:24.652612Z"
        },
        "trusted": true,
        "id": "3yLh1toVkkpS"
      },
      "execution_count": 90,
      "outputs": []
    },
    {
      "cell_type": "code",
      "source": [
        "# TODO : Generate samples for all users"
      ],
      "metadata": {
        "execution": {
          "iopub.status.busy": "2022-09-16T18:23:24.656318Z",
          "iopub.execute_input": "2022-09-16T18:23:24.656775Z",
          "iopub.status.idle": "2022-09-16T18:23:25.935543Z",
          "shell.execute_reply.started": "2022-09-16T18:23:24.656733Z",
          "shell.execute_reply": "2022-09-16T18:23:25.934505Z"
        },
        "trusted": true,
        "id": "vAgJqb7lkkpS"
      },
      "execution_count": null,
      "outputs": []
    },
    {
      "cell_type": "code",
      "source": [
        "# TODO : Generate samples for only paying users"
      ],
      "metadata": {
        "execution": {
          "iopub.status.busy": "2022-09-16T18:23:25.936759Z",
          "iopub.execute_input": "2022-09-16T18:23:25.937087Z",
          "iopub.status.idle": "2022-09-16T18:23:25.964331Z",
          "shell.execute_reply.started": "2022-09-16T18:23:25.937057Z",
          "shell.execute_reply": "2022-09-16T18:23:25.96321Z"
        },
        "trusted": true,
        "id": "pwXNe9H4kkpS"
      },
      "execution_count": null,
      "outputs": []
    },
    {
      "cell_type": "markdown",
      "source": [
        "Let's look at the distribution of means in the ab test groups"
      ],
      "metadata": {
        "id": "7OsUPGxnkkpT"
      }
    },
    {
      "cell_type": "code",
      "source": [
        "f, ax = plt.subplots()\n",
        "# plt.figure(figsize=(20,5))\n",
        "sns.kdeplot(np.mean(control, axis=1), shade=True, label='control')\n",
        "sns.kdeplot(np.mean(variant, axis=1), shade=True, label='variant')\n",
        "plt.title('Sample mean distribution for all users')"
      ],
      "metadata": {
        "execution": {
          "iopub.status.busy": "2022-09-16T18:23:25.965453Z",
          "iopub.execute_input": "2022-09-16T18:23:25.96576Z",
          "iopub.status.idle": "2022-09-16T18:23:26.299852Z",
          "shell.execute_reply.started": "2022-09-16T18:23:25.965732Z",
          "shell.execute_reply": "2022-09-16T18:23:26.298725Z"
        },
        "trusted": true,
        "id": "CvNnX2ALkkpT"
      },
      "execution_count": null,
      "outputs": []
    },
    {
      "cell_type": "code",
      "source": [
        "f, ax = plt.subplots()\n",
        "# plt.figure(figsize=(20,5))\n",
        "sns.kdeplot(np.mean(control_paid, axis=1), shade=True, label='control')\n",
        "sns.kdeplot(np.mean(variant_paid, axis=1), shade=True, label='variant')\n",
        "plt.title('Sample mean distribution for paying users')"
      ],
      "metadata": {
        "execution": {
          "iopub.status.busy": "2022-09-16T18:23:26.301272Z",
          "iopub.execute_input": "2022-09-16T18:23:26.301641Z",
          "iopub.status.idle": "2022-09-16T18:23:26.62483Z",
          "shell.execute_reply.started": "2022-09-16T18:23:26.301609Z",
          "shell.execute_reply": "2022-09-16T18:23:26.623431Z"
        },
        "trusted": true,
        "id": "v4_qUms4kkpT"
      },
      "execution_count": null,
      "outputs": []
    },
    {
      "cell_type": "markdown",
      "source": [
        "Do you see any difference ? What about the confidence intervals ? Conclude.\n",
        "\n",
        "Let's evaluate the difference between the groups: look at the distribution of the mean difference and build confidence intervals for it. To do this, we will create a function for visualization"
      ],
      "metadata": {
        "id": "8MXUz0CEkkpT"
      }
    },
    {
      "cell_type": "code",
      "source": [
        "def plot_distribution_and_stat_intervals(variant, control, title, alpha=0.05):\n",
        "    \"\"\" Plot the distribution of the mean difference and return the confidence intervals \"\"\"\n",
        "    f, ax = plt.subplots()\n",
        "    # get data for coloring confidence intervals\n",
        "    points = sns.kdeplot(variant - control, shade=True).get_lines()[0].get_data()\n",
        "    x = points[0]\n",
        "    y = points[1]\n",
        "    ymin, ymax = plt.ylim()\n",
        "    # highlight the zero value and the bounds of the confidence interval\n",
        "    plt.vlines(0, 0, ymax, label='0', color='gray')\n",
        "    plt.vlines(stat_intervals(variant - control, alpha)[0], 0, ymax, linestyles=\"dashed\")\n",
        "    plt.vlines(stat_intervals(variant - control, alpha)[1], 0, ymax, linestyles=\"dashed\")\n",
        "    # color the confidence interval and zones outside it\n",
        "    plt.fill_between(x,y,\n",
        "                     where = (x >= stat_intervals(variant - control, alpha)[1]),\n",
        "                     color='gainsboro')\n",
        "    plt.fill_between(x,y,\n",
        "                     where = (x <= stat_intervals(variant - control, alpha)[0]),\n",
        "                     color='gainsboro')\n",
        "    plt.fill_between(x,y,\n",
        "                     where = ((x >= stat_intervals(variant - control, alpha)[0])\n",
        "                              & (x <= stat_intervals(variant - control, alpha)[1])),\n",
        "                     color='red',\n",
        "                     label = '95% confidence interval')\n",
        "    plt.title(f'Distribution of difference between means (variant - control) {title}; {100*(1-alpha)}% Confidence interval for difference of means: {stat_intervals(variant - control, alpha)}')\n",
        "    plt.legend(prop={'size':13})\n",
        "    # return confidence interval data\n",
        "    return stat_intervals(variant - control)"
      ],
      "metadata": {
        "execution": {
          "iopub.status.busy": "2022-09-16T18:23:26.62643Z",
          "iopub.execute_input": "2022-09-16T18:23:26.628052Z",
          "iopub.status.idle": "2022-09-16T18:23:26.639469Z",
          "shell.execute_reply.started": "2022-09-16T18:23:26.628017Z",
          "shell.execute_reply": "2022-09-16T18:23:26.638694Z"
        },
        "trusted": true,
        "id": "bBIz3jkCkkpT"
      },
      "execution_count": null,
      "outputs": []
    },
    {
      "cell_type": "markdown",
      "source": [
        "Let's build a graph of the distribution of the difference in the means and get a confidence interval\n",
        "\n",
        "For all users"
      ],
      "metadata": {
        "id": "ZIUmqXtHkkpT"
      }
    },
    {
      "cell_type": "code",
      "source": [
        "plot_distribution_and_stat_intervals(np.mean(variant, axis=1),\n",
        "                                     np.mean(control, axis=1),\n",
        "                                     title='all users')"
      ],
      "metadata": {
        "execution": {
          "iopub.status.busy": "2022-09-16T18:23:26.640692Z",
          "iopub.execute_input": "2022-09-16T18:23:26.641004Z",
          "iopub.status.idle": "2022-09-16T18:23:26.655336Z",
          "shell.execute_reply.started": "2022-09-16T18:23:26.640977Z",
          "shell.execute_reply": "2022-09-16T18:23:26.654163Z"
        },
        "trusted": true,
        "id": "eQq8UewNkkpT"
      },
      "execution_count": null,
      "outputs": []
    },
    {
      "cell_type": "code",
      "source": [
        "plot_distribution_and_stat_intervals(np.mean(variant_paid, axis=1),\n",
        "                                     np.mean(control_paid, axis=1),\n",
        "                                     title='paying users')"
      ],
      "metadata": {
        "execution": {
          "iopub.status.busy": "2022-09-16T18:23:26.656914Z",
          "iopub.execute_input": "2022-09-16T18:23:26.657231Z",
          "iopub.status.idle": "2022-09-16T18:23:26.666176Z",
          "shell.execute_reply.started": "2022-09-16T18:23:26.65719Z",
          "shell.execute_reply": "2022-09-16T18:23:26.664922Z"
        },
        "trusted": true,
        "id": "mOb8VkPAkkpT"
      },
      "execution_count": null,
      "outputs": []
    },
    {
      "cell_type": "markdown",
      "source": [
        "What can you observe ? Conclude about the statistical change in average revenue between A/B test groups.\n"
      ],
      "metadata": {
        "id": "5KFSGNjOkkpU"
      }
    }
  ]
}