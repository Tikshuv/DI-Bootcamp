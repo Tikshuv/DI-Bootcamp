{
  "metadata": {
    "kernelspec": {
      "language": "python",
      "display_name": "Python 3",
      "name": "python3"
    },
    "language_info": {
      "pygments_lexer": "ipython3",
      "nbconvert_exporter": "python",
      "version": "3.6.4",
      "file_extension": ".py",
      "codemirror_mode": {
        "name": "ipython",
        "version": 3
      },
      "name": "python",
      "mimetype": "text/x-python"
    },
    "kaggle": {
      "accelerator": "none",
      "dataSources": [
        {
          "sourceId": 4213024,
          "sourceType": "datasetVersion",
          "datasetId": 2479030
        }
      ],
      "dockerImageVersionId": 30558,
      "isInternetEnabled": false,
      "language": "python",
      "sourceType": "notebook",
      "isGpuEnabled": false
    },
    "colab": {
      "provenance": []
    }
  },
  "nbformat_minor": 0,
  "nbformat": 4,
  "cells": [
    {
      "cell_type": "code",
      "source": [
        "import numpy as np\n",
        "import pandas as pd\n",
        "import matplotlib.pyplot as plt\n",
        "import seaborn as sns\n",
        "import itertools\n",
        "import statsmodels.stats.api as sms\n",
        "from scipy.stats import (ttest_1samp, shapiro, levene, ttest_ind, mannwhitneyu,\n",
        "                         pearsonr, spearmanr, kendalltau, f_oneway, kruskal)\n",
        "from statsmodels.stats.proportion import proportions_ztest\n",
        "from statsmodels.stats.multicomp import MultiComparison\n"
      ],
      "metadata": {
        "_uuid": "8f2839f25d086af736a60e9eeb907d3b93b6e0e5",
        "_cell_guid": "b1076dfc-b9ad-4769-8c92-a6c4dae69d19",
        "execution": {
          "iopub.status.busy": "2023-11-06T18:15:49.893535Z",
          "iopub.execute_input": "2023-11-06T18:15:49.894197Z",
          "iopub.status.idle": "2023-11-06T18:15:49.925697Z",
          "shell.execute_reply.started": "2023-11-06T18:15:49.894137Z",
          "shell.execute_reply": "2023-11-06T18:15:49.924613Z"
        },
        "trusted": true,
        "id": "NxVVGK3Ervuh"
      },
      "execution_count": 2,
      "outputs": []
    },
    {
      "cell_type": "code",
      "source": [
        "# TODO : Import the Data from the kaggle API\n",
        "df = pd.read_csv('/content/AB_Test_Results.csv')"
      ],
      "metadata": {
        "id": "3tOTF5-JoVbY"
      },
      "execution_count": 3,
      "outputs": []
    },
    {
      "cell_type": "markdown",
      "source": [
        "# Data Understanding"
      ],
      "metadata": {
        "id": "x4TkAvmHrvuk"
      }
    },
    {
      "cell_type": "code",
      "source": [
        "#TODO : compute the following : DataFrame Information, Columns in DataFrame, Counting Missing Values, Descriptive Statistics, Value Counts for VARIANT_NAME, Counting Unique Users in USER_ID\n",
        "\n",
        "# Information\n",
        "print(\" DataFrame Information:\")\n",
        "df.info()\n",
        "\n",
        "# 2. Columns\n",
        "print(\"\\n Columns in DataFrame:\")\n",
        "print(df.columns)\n",
        "\n",
        "# 3. Missing Values\n",
        "print(\"\\n Missing Values Count:\")\n",
        "print(df.isnull().sum())\n",
        "\n",
        "# 4. Descriptive Statistics\n",
        "print(\"\\n Descriptive Statistics:\")\n",
        "print(df.describe())\n",
        "\n",
        "# 5. Value Counts for VARIANT_NAME\n",
        "print(\"\\n Value Counts for VARIANT_NAME:\")\n",
        "print(df['VARIANT_NAME'].value_counts())\n",
        "\n",
        "# 6. Counting Unique Users in USER_ID\n",
        "print(\"\\n Unique User Count:\")\n",
        "print(df['USER_ID'].nunique())"
      ],
      "metadata": {
        "execution": {
          "iopub.status.busy": "2023-11-06T18:17:34.663181Z",
          "iopub.execute_input": "2023-11-06T18:17:34.663604Z",
          "iopub.status.idle": "2023-11-06T18:17:34.698452Z",
          "shell.execute_reply.started": "2023-11-06T18:17:34.66357Z",
          "shell.execute_reply": "2023-11-06T18:17:34.697253Z"
        },
        "trusted": true,
        "id": "4hquSCDYrvun",
        "colab": {
          "base_uri": "https://localhost:8080/"
        },
        "outputId": "a1f9cac1-0fe6-416c-cf24-0163f65c04d6"
      },
      "execution_count": 6,
      "outputs": [
        {
          "output_type": "stream",
          "name": "stdout",
          "text": [
            " DataFrame Information:\n",
            "<class 'pandas.core.frame.DataFrame'>\n",
            "RangeIndex: 10000 entries, 0 to 9999\n",
            "Data columns (total 3 columns):\n",
            " #   Column        Non-Null Count  Dtype  \n",
            "---  ------        --------------  -----  \n",
            " 0   USER_ID       10000 non-null  int64  \n",
            " 1   VARIANT_NAME  10000 non-null  object \n",
            " 2   REVENUE       10000 non-null  float64\n",
            "dtypes: float64(1), int64(1), object(1)\n",
            "memory usage: 234.5+ KB\n",
            "\n",
            " Columns in DataFrame:\n",
            "Index(['USER_ID', 'VARIANT_NAME', 'REVENUE'], dtype='object')\n",
            "\n",
            " Missing Values Count:\n",
            "USER_ID         0\n",
            "VARIANT_NAME    0\n",
            "REVENUE         0\n",
            "dtype: int64\n",
            "\n",
            " Descriptive Statistics:\n",
            "            USER_ID       REVENUE\n",
            "count  10000.000000  10000.000000\n",
            "mean    4981.080200      0.099447\n",
            "std     2890.590115      2.318529\n",
            "min        2.000000      0.000000\n",
            "25%     2468.750000      0.000000\n",
            "50%     4962.000000      0.000000\n",
            "75%     7511.500000      0.000000\n",
            "max    10000.000000    196.010000\n",
            "\n",
            " Value Counts for VARIANT_NAME:\n",
            "VARIANT_NAME\n",
            "variant    5016\n",
            "control    4984\n",
            "Name: count, dtype: int64\n",
            "\n",
            " Unique User Count:\n",
            "6324\n"
          ]
        }
      ]
    },
    {
      "cell_type": "markdown",
      "source": [
        "# Average Revenue by VARIANT_NAME"
      ],
      "metadata": {
        "id": "1UJ0wnvyrvup"
      }
    },
    {
      "cell_type": "code",
      "source": [
        "#TODO\n",
        "avg_revenue = df.groupby('VARIANT_NAME')['REVENUE'].mean()\n",
        "print(\"Average Revenue by VARIANT_NAME:\")\n",
        "print(avg_revenue)\n",
        "\n",
        "revenue_A = df[df['VARIANT_NAME'] == 'control']['REVENUE']\n",
        "revenue_B = df[df['VARIANT_NAME'] == 'variant']['REVENUE']\n",
        "\n",
        "t_stat, p_value = ttest_ind(revenue_A, revenue_B, equal_var=False)\n",
        "\n",
        "print(f\"\\nT-Statistic: {t_stat}\")\n",
        "print(f\"P-Value: {p_value}\")\n",
        "\n",
        "alpha = 0.05\n",
        "if p_value <= alpha:\n",
        "    print(\"Reject H0: There is a significant difference in average revenue between the variants.\")\n",
        "else:\n",
        "    print(\"Fail to reject H0: No significant difference in average revenue between the variants.\")\n"
      ],
      "metadata": {
        "execution": {
          "iopub.status.busy": "2023-11-06T18:18:57.601805Z",
          "iopub.execute_input": "2023-11-06T18:18:57.602256Z",
          "iopub.status.idle": "2023-11-06T18:18:57.619241Z",
          "shell.execute_reply.started": "2023-11-06T18:18:57.602219Z",
          "shell.execute_reply": "2023-11-06T18:18:57.618008Z"
        },
        "trusted": true,
        "id": "FEl4TOdKrvuq",
        "colab": {
          "base_uri": "https://localhost:8080/"
        },
        "outputId": "5c71e1d5-7199-466f-9fe0-e25d1ae4378a"
      },
      "execution_count": 10,
      "outputs": [
        {
          "output_type": "stream",
          "name": "stdout",
          "text": [
            "Average Revenue by VARIANT_NAME:\n",
            "VARIANT_NAME\n",
            "control    0.129013\n",
            "variant    0.070070\n",
            "Name: REVENUE, dtype: float64\n",
            "\n",
            "T-Statistic: 1.268403803110966\n",
            "P-Value: 0.20469713432410777\n",
            "Fail to reject H0: No significant difference in average revenue between the variants.\n"
          ]
        }
      ]
    },
    {
      "cell_type": "markdown",
      "source": [
        "What if H0: M1 = M2 ?\n",
        "What about H1: M1 1= M2 ?"
      ],
      "metadata": {
        "id": "VI4aeoclrvur"
      }
    },
    {
      "cell_type": "markdown",
      "source": [
        "# Assumptions Control:\n",
        "*# 1- Normality Assumptions*\n",
        "*# 2- Homogeneity of Variances Assumption*"
      ],
      "metadata": {
        "id": "9nwdJ5OPrvus"
      }
    },
    {
      "cell_type": "code",
      "source": [
        "# TODO : test the normality of revenue data in two groups (variant and control) within your DataFrame df using the Shapiro-Wilk test, what can you conclude ?\n",
        "revenue_control = df[df['VARIANT_NAME'] == 'control']['REVENUE']\n",
        "revenue_variant = df[df['VARIANT_NAME'] == 'variant']['REVENUE']\n",
        "stat_control, p_control = shapiro(revenue_control)\n",
        "stat_variant, p_variant = shapiro(revenue_variant)\n",
        "print(\"Shapiro-Wilk Test Results:\")\n",
        "\n",
        "print(f\"\\nControl Group: W-Statistic = {stat_control:.4f}, P-Value = {p_control:.4f}\")\n",
        "if p_control <= 0.05:\n",
        "    print(\"Control Group data is NOT normally distributed.\")\n",
        "else:\n",
        "    print(\"Control Group data IS normally distributed.\")\n",
        "\n",
        "print(f\"\\nVariant Group: W-Statistic = {stat_variant:.4f}, P-Value = {p_variant:.4f}\")\n",
        "if p_variant <= 0.05:\n",
        "    print(\"Variant Group data is NOT normally distributed.\")\n",
        "else:\n",
        "    print(\"Variant Group data IS normally distributed.\")"
      ],
      "metadata": {
        "execution": {
          "iopub.status.busy": "2023-11-06T18:33:49.418255Z",
          "iopub.execute_input": "2023-11-06T18:33:49.419188Z",
          "iopub.status.idle": "2023-11-06T18:33:49.439409Z",
          "shell.execute_reply.started": "2023-11-06T18:33:49.41913Z",
          "shell.execute_reply": "2023-11-06T18:33:49.438008Z"
        },
        "trusted": true,
        "id": "TT2sJwFprvut",
        "colab": {
          "base_uri": "https://localhost:8080/"
        },
        "outputId": "49a922b8-4764-4746-b64b-99e5d57c1f39"
      },
      "execution_count": 11,
      "outputs": [
        {
          "output_type": "stream",
          "name": "stdout",
          "text": [
            "Shapiro-Wilk Test Results:\n",
            "\n",
            "Control Group: W-Statistic = 0.0183, P-Value = 0.0000\n",
            "Control Group data is NOT normally distributed.\n",
            "\n",
            "Variant Group: W-Statistic = 0.0270, P-Value = 0.0000\n",
            "Variant Group data is NOT normally distributed.\n"
          ]
        },
        {
          "output_type": "stream",
          "name": "stderr",
          "text": [
            "/usr/local/lib/python3.10/dist-packages/scipy/stats/_axis_nan_policy.py:531: UserWarning: scipy.stats.shapiro: For N > 5000, computed p-value may not be accurate. Current N is 5016.\n",
            "  res = hypotest_fun_out(*samples, **kwds)\n"
          ]
        }
      ]
    },
    {
      "cell_type": "code",
      "source": [
        "# TODO : test for the homogeneity of variances between two groups (variant and control) within your DataFrame df using the Levene's test,  what can you conclude ?\n",
        "\n",
        "statistic, p_value = levene(revenue_control, revenue_variant)\n",
        "print(\"Levene's Test for Homogeneity of Variances:\")\n",
        "print(f\"Statistic: {statistic:.4f}, P-Value: {p_value:.4f}\")\n",
        "\n",
        "alpha = 0.05\n",
        "if p_value <= alpha:\n",
        "    print(\"Reject H0: Variances are not equal between the two groups.\")\n",
        "else:\n",
        "    print(\"Fail to reject H0: Variances are equal between the two groups.\")"
      ],
      "metadata": {
        "execution": {
          "iopub.status.busy": "2023-11-06T18:36:19.230691Z",
          "iopub.execute_input": "2023-11-06T18:36:19.231134Z",
          "iopub.status.idle": "2023-11-06T18:36:19.251023Z",
          "shell.execute_reply.started": "2023-11-06T18:36:19.231103Z",
          "shell.execute_reply": "2023-11-06T18:36:19.249467Z"
        },
        "trusted": true,
        "id": "n_X3_fU2rvuv",
        "colab": {
          "base_uri": "https://localhost:8080/"
        },
        "outputId": "9704415b-607f-44eb-f1b1-1918d1bf71ad"
      },
      "execution_count": 12,
      "outputs": [
        {
          "output_type": "stream",
          "name": "stdout",
          "text": [
            "Levene's Test for Homogeneity of Variances:\n",
            "Statistic: 1.6159, P-Value: 0.2037\n",
            "Fail to reject H0: Variances are equal between the two groups.\n"
          ]
        }
      ]
    },
    {
      "cell_type": "markdown",
      "source": [
        "# Non-Parametric Test (mannwhitneyu Test)"
      ],
      "metadata": {
        "id": "thz0Mml0rvuw"
      }
    },
    {
      "cell_type": "code",
      "source": [
        "# TODO : perform the Mann-Whitney U test for comparing the average revenue between the variant and control groups in your DataFrame, what can you conclude ?\n",
        "statistic, p_value = mannwhitneyu(revenue_control, revenue_variant, alternative='two-sided')\n",
        "\n",
        "print(\"Mann-Whitney U Test Results:\")\n",
        "print(f\"U-Statistic: {statistic:.4f}, P-Value: {p_value:.4f}\")\n",
        "\n",
        "alpha = 0.05\n",
        "if p_value <= alpha:\n",
        "    print(\"Reject H0: There is a significant difference in revenue between the variant and control groups.\")\n",
        "else:\n",
        "    print(\"Fail to reject H0: No significant difference in revenue between the variant and control groups.\")"
      ],
      "metadata": {
        "execution": {
          "iopub.status.busy": "2023-11-06T18:38:28.694822Z",
          "iopub.execute_input": "2023-11-06T18:38:28.695244Z",
          "iopub.status.idle": "2023-11-06T18:38:28.727682Z",
          "shell.execute_reply.started": "2023-11-06T18:38:28.695212Z",
          "shell.execute_reply": "2023-11-06T18:38:28.726189Z"
        },
        "trusted": true,
        "id": "HGcWTyuUrvuw",
        "colab": {
          "base_uri": "https://localhost:8080/"
        },
        "outputId": "d51433bc-8c7c-4de1-ff5c-5839bcb113ab"
      },
      "execution_count": 13,
      "outputs": [
        {
          "output_type": "stream",
          "name": "stdout",
          "text": [
            "Mann-Whitney U Test Results:\n",
            "U-Statistic: 12521564.0000, P-Value: 0.4783\n",
            "Fail to reject H0: No significant difference in revenue between the variant and control groups.\n"
          ]
        }
      ]
    },
    {
      "cell_type": "code",
      "source": [
        "# TODO : create a bar plot showing the average revenues by variant names using the seaborn library\n",
        "plt.figure(figsize=(10, 6))\n",
        "sns.barplot(\n",
        "    data=df,\n",
        "    x='VARIANT_NAME',\n",
        "    y='REVENUE',\n",
        "    estimator='mean',\n",
        "    hue = 'VARIANT_NAME',\n",
        "    palette='viridis',\n",
        "\n",
        ")\n",
        "plt.title('Average Revenue by Variant Name', fontsize=16)\n",
        "plt.xlabel('Variant Name', fontsize=14)\n",
        "plt.ylabel('Average Revenue', fontsize=14)\n",
        "plt.show()"
      ],
      "metadata": {
        "execution": {
          "iopub.status.busy": "2023-11-06T18:45:29.181657Z",
          "iopub.execute_input": "2023-11-06T18:45:29.18208Z",
          "iopub.status.idle": "2023-11-06T18:45:29.640026Z",
          "shell.execute_reply.started": "2023-11-06T18:45:29.182049Z",
          "shell.execute_reply": "2023-11-06T18:45:29.638846Z"
        },
        "trusted": true,
        "id": "jtjQGGsDrvux",
        "colab": {
          "base_uri": "https://localhost:8080/",
          "height": 576
        },
        "outputId": "628f03aa-7559-4025-a0cd-353a0ac19ada"
      },
      "execution_count": 22,
      "outputs": [
        {
          "output_type": "display_data",
          "data": {
            "text/plain": [
              "<Figure size 1000x600 with 1 Axes>"
            ],
            "image/png": "[encoded data removed]"
          },
          "metadata": {}
        }
      ]
    }
  ]
}